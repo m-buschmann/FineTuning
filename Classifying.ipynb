{
  "nbformat": 4,
  "nbformat_minor": 0,
  "metadata": {
    "colab": {
      "provenance": [],
      "include_colab_link": true
    },
    "kernelspec": {
      "name": "python3",
      "display_name": "Python 3"
    },
    "language_info": {
      "name": "python"
    }
  },
  "cells": [
    {
      "cell_type": "markdown",
      "metadata": {
        "id": "view-in-github",
        "colab_type": "text"
      },
      "source": [
        "<a href=\"https://colab.research.google.com/github/tensorflow-project/FineTuning/blob/main/Classifying.ipynb\" target=\"_parent\"><img src=\"https://colab.research.google.com/assets/colab-badge.svg\" alt=\"Open In Colab\"/></a>"
      ]
    },
    {
      "cell_type": "code",
      "execution_count": 1,
      "metadata": {
        "colab": {
          "base_uri": "https://localhost:8080/"
        },
        "id": "bqxJXsV6fSTg",
        "outputId": "9b5e2ade-bf27-499b-d82e-4eb31a609bbb"
      },
      "outputs": [
        {
          "output_type": "stream",
          "name": "stdout",
          "text": [
            "Cloning into 'FineTuning'...\n",
            "remote: Enumerating objects: 455, done.\u001b[K\n",
            "remote: Counting objects: 100% (91/91), done.\u001b[K\n",
            "remote: Compressing objects: 100% (80/80), done.\u001b[K\n",
            "remote: Total 455 (delta 56), reused 3 (delta 3), pack-reused 364\u001b[K\n",
            "Receiving objects: 100% (455/455), 93.43 MiB | 13.80 MiB/s, done.\n",
            "Resolving deltas: 100% (322/322), done.\n",
            "/content/FineTuning\n"
          ]
        }
      ],
      "source": [
        "!git clone https://github.com/tensorflow-project/FineTuning\n",
        "%cd FineTuning"
      ]
    },
    {
      "cell_type": "code",
      "source": [
        "from Classification import ResNet as rn"
      ],
      "metadata": {
        "id": "lr4Pjoh5fVI7"
      },
      "execution_count": 2,
      "outputs": []
    },
    {
      "cell_type": "code",
      "source": [
        "import tensorflow as tf\n",
        "import numpy as np\n",
        "from google.colab import drive\n",
        "drive.mount('/content/drive')\n",
        "path_angry_train = '/content/drive/MyDrive/angry/train/'\n",
        "path_angry_test = '/content/drive/MyDrive/angry/test/'\n",
        "path_sad_train = '/content/drive/MyDrive/sad/train/'\n",
        "path_sad_test = '/content/drive/MyDrive/sad/test/'\n",
        "path_love_train = '/content/drive/MyDrive/love/train/'\n",
        "path_love_test = '/content/drive/MyDrive/love/test/'\n",
        "path_happy_train = '/content/drive/MyDrive/happy/train/'\n",
        "path_happy_test = '/content/drive/MyDrive/happy/test/'"
      ],
      "metadata": {
        "colab": {
          "base_uri": "https://localhost:8080/"
        },
        "id": "cXJm5AErfsg-",
        "outputId": "c19671cd-451e-4d5b-9524-f3163d81806f"
      },
      "execution_count": 3,
      "outputs": [
        {
          "output_type": "stream",
          "name": "stdout",
          "text": [
            "Mounted at /content/drive\n"
          ]
        }
      ]
    },
    {
      "cell_type": "code",
      "source": [
        "angry_train = rn.dataset(path_angry_train, 1)\n",
        "sad_train = rn.dataset(path_sad_train, 2)\n",
        "love_train = rn.dataset(path_love_train, 3)\n",
        "happy_train = rn.dataset(path_happy_train, 4)\n",
        "\n",
        "train_ds = (happy_train.concatenate(love_train)).concatenate(sad_train.concatenate(angry_train))\n",
        "\n",
        "angry_test = rn.dataset(path_angry_test, 1)\n",
        "sad_test = rn.dataset(path_sad_test, 2)\n",
        "love_test = rn.dataset(path_love_test, 3)\n",
        "happy_test = rn.dataset(path_happy_test, 4)\n",
        "\n",
        "test_ds = (happy_test.concatenate(love_test)).concatenate(sad_test.concatenate(angry_test))\n",
        "\n",
        "train_summary_writer, val_summary_writer = rn.create_summary_writers(config_name=\"RUN1\")\n",
        "model = rn.ResNet()\n",
        "\n",
        "#choose path to save weights\n",
        "save_path = \"trained_model_Run1\""
      ],
      "metadata": {
        "colab": {
          "base_uri": "https://localhost:8080/"
        },
        "id": "O_jXH47KgDAo",
        "outputId": "922d85a6-fbcb-4b8d-8c19-a77d97d1c71d"
      },
      "execution_count": 7,
      "outputs": [
        {
          "output_type": "stream",
          "name": "stdout",
          "text": [
            "angry done\n",
            "sad done\n",
            "love done\n",
            "happy done\n",
            "angry done\n",
            "sad done\n",
            "love done\n",
            "happy done\n",
            "concatenated\n",
            "model\n"
          ]
        }
      ]
    },
    {
      "cell_type": "code",
      "source": [
        "#start training on given model with given number of epochs\n",
        "rn.training_loop(model=model, epochs=10, train_ds=train_ds, test_ds=test_ds, train_summary_writer=train_summary_writer, val_summary_writer=val_summary_writer)"
      ],
      "metadata": {
        "id": "wXDYYUM_Mg5s",
        "outputId": "d556ccca-1cc6-4858-a81f-b35463b4d5ee",
        "colab": {
          "base_uri": "https://localhost:8080/"
        }
      },
      "execution_count": null,
      "outputs": [
        {
          "output_type": "stream",
          "name": "stderr",
          "text": [
            "100%|██████████| 186/186 [06:14<00:00,  2.01s/it]\n"
          ]
        },
        {
          "output_type": "stream",
          "name": "stdout",
          "text": [
            "['categorical_accuracy: 0.1320754736661911', 'loss: nan']\n",
            "['val_categorical_accuracy: 0.49494948983192444', 'val_loss: nan']\n"
          ]
        },
        {
          "output_type": "stream",
          "name": "stderr",
          "text": [
            "100%|██████████| 186/186 [06:03<00:00,  1.96s/it]\n"
          ]
        },
        {
          "output_type": "stream",
          "name": "stdout",
          "text": [
            "['categorical_accuracy: 0.4716981053352356', 'loss: nan']\n",
            "['val_categorical_accuracy: 0.49494948983192444', 'val_loss: nan']\n"
          ]
        },
        {
          "output_type": "stream",
          "name": "stderr",
          "text": [
            "100%|██████████| 186/186 [06:08<00:00,  1.98s/it]\n"
          ]
        },
        {
          "output_type": "stream",
          "name": "stdout",
          "text": [
            "['categorical_accuracy: 0.4716981053352356', 'loss: nan']\n",
            "['val_categorical_accuracy: 0.49494948983192444', 'val_loss: nan']\n"
          ]
        },
        {
          "output_type": "stream",
          "name": "stderr",
          "text": [
            " 98%|█████████▊| 183/186 [06:03<00:05,  1.68s/it]"
          ]
        }
      ]
    }
  ]
}