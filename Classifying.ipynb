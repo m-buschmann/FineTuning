{
  "nbformat": 4,
  "nbformat_minor": 0,
  "metadata": {
    "colab": {
      "provenance": [],
      "include_colab_link": true
    },
    "kernelspec": {
      "name": "python3",
      "display_name": "Python 3"
    },
    "language_info": {
      "name": "python"
    }
  },
  "cells": [
    {
      "cell_type": "markdown",
      "metadata": {
        "id": "view-in-github",
        "colab_type": "text"
      },
      "source": [
        "<a href=\"https://colab.research.google.com/github/tensorflow-project/FineTuning/blob/main/Classifying.ipynb\" target=\"_parent\"><img src=\"https://colab.research.google.com/assets/colab-badge.svg\" alt=\"Open In Colab\"/></a>"
      ]
    },
    {
      "cell_type": "code",
      "execution_count": 1,
      "metadata": {
        "colab": {
          "base_uri": "https://localhost:8080/"
        },
        "id": "bqxJXsV6fSTg",
        "outputId": "76dedfdf-2ebf-4748-bc68-ba368a4d2d2f"
      },
      "outputs": [
        {
          "output_type": "stream",
          "name": "stdout",
          "text": [
            "Cloning into 'FineTuning'...\n",
            "remote: Enumerating objects: 444, done.\u001b[K\n",
            "remote: Counting objects: 100% (80/80), done.\u001b[K\n",
            "remote: Compressing objects: 100% (71/71), done.\u001b[K\n",
            "remote: Total 444 (delta 49), reused 3 (delta 3), pack-reused 364\u001b[K\n",
            "Receiving objects: 100% (444/444), 93.42 MiB | 13.27 MiB/s, done.\n",
            "Resolving deltas: 100% (315/315), done.\n",
            "/content/FineTuning\n"
          ]
        }
      ],
      "source": [
        "!git clone https://github.com/tensorflow-project/FineTuning\n",
        "%cd FineTuning"
      ]
    },
    {
      "cell_type": "code",
      "source": [
        "from Classification import ResNet as rn"
      ],
      "metadata": {
        "id": "lr4Pjoh5fVI7"
      },
      "execution_count": 2,
      "outputs": []
    },
    {
      "cell_type": "code",
      "source": [
        "import tensorflow as tf\n",
        "import numpy as np\n",
        "from google.colab import drive\n",
        "drive.mount('/content/drive')\n",
        "path_angry = '/content/drive/MyDrive/angry/'\n",
        "path_sad = '/content/drive/MyDrive/sad/'\n",
        "path_love = '/content/drive/MyDrive/love/'\n",
        "path_happy = '/content/drive/MyDrive/happy/'"
      ],
      "metadata": {
        "colab": {
          "base_uri": "https://localhost:8080/"
        },
        "id": "cXJm5AErfsg-",
        "outputId": "41b4bd95-6594-4711-802e-3e91e207bdd2"
      },
      "execution_count": 16,
      "outputs": [
        {
          "output_type": "stream",
          "name": "stdout",
          "text": [
            "Drive already mounted at /content/drive; to attempt to forcibly remount, call drive.mount(\"/content/drive\", force_remount=True).\n"
          ]
        }
      ]
    },
    {
      "cell_type": "code",
      "source": [
        "angry = rn.dataset(path_angry, 1)\n",
        "print(\"angry done\")\n",
        "sad = rn.dataset(path_sad, 2)\n",
        "print(\"sad done\")\n",
        "love = rn.dataset(path_love, 3)\n",
        "print(\"love done\")\n",
        "happy = rn.dataset(path_happy, 4)\n",
        "print(\"happy done\")\n",
        "train_ds = (happy.concatenate(love)).concatenate(sad.concatenate(angry))\n",
        "print(\"concatenated\")\n",
        "train_summary_writer, val_summary_writer = rn.create_summary_writers(config_name=\"RUN1\")\n",
        "model = rn.ResNet()\n",
        "print(\"model\")\n",
        "#choose path to save weights\n",
        "save_path = \"trained_model_Run1\"\n",
        "test_ds = train_ds\n",
        "\n"
      ],
      "metadata": {
        "colab": {
          "base_uri": "https://localhost:8080/"
        },
        "id": "O_jXH47KgDAo",
        "outputId": "bfeb1ee3-d19d-4e15-80bd-de2d5c2e7249"
      },
      "execution_count": 17,
      "outputs": [
        {
          "output_type": "stream",
          "name": "stdout",
          "text": [
            "angry done\n",
            "sad done\n",
            "love done\n",
            "happy done\n",
            "concatenated\n",
            "model\n"
          ]
        }
      ]
    },
    {
      "cell_type": "code",
      "source": [
        "dataset = train_ds"
      ],
      "metadata": {
        "id": "7vGpD3sCTIY4"
      },
      "execution_count": 18,
      "outputs": []
    },
    {
      "cell_type": "code",
      "source": [
        "#start training on given model with given number of epochs\n",
        "rn.training_loop(model=model, epochs=10, train_ds=train_ds, test_ds=test_ds)"
      ],
      "metadata": {
        "id": "wXDYYUM_Mg5s"
      },
      "execution_count": null,
      "outputs": []
    }
  ]
}