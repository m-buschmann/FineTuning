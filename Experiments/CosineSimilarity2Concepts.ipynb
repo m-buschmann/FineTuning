{
  "nbformat": 4,
  "nbformat_minor": 0,
  "metadata": {
    "colab": {
      "provenance": [],
      "include_colab_link": true
    },
    "kernelspec": {
      "name": "python3",
      "display_name": "Python 3"
    },
    "language_info": {
      "name": "python"
    },
    "accelerator": "GPU",
    "gpuClass": "standard"
  },
  "cells": [
    {
      "cell_type": "markdown",
      "metadata": {
        "id": "view-in-github",
        "colab_type": "text"
      },
      "source": [
        "<a href=\"https://colab.research.google.com/github/tensorflow-project/FineTuning/blob/main/Experiments/CosineSimilarity2Concepts.ipynb\" target=\"_parent\"><img src=\"https://colab.research.google.com/assets/colab-badge.svg\" alt=\"Open In Colab\"/></a>"
      ]
    },
    {
      "cell_type": "code",
      "source": [
        "!git clone https://github.com/tensorflow-project/FineTuning"
      ],
      "metadata": {
        "colab": {
          "base_uri": "https://localhost:8080/"
        },
        "id": "LBGcW8Cv9eyo",
        "outputId": "ce707510-93bb-4c81-fc88-3e78caa7ccdf"
      },
      "execution_count": null,
      "outputs": [
        {
          "output_type": "stream",
          "name": "stdout",
          "text": [
            "Cloning into 'FineTuning'...\n",
            "remote: Enumerating objects: 1108, done.\u001b[K\n",
            "remote: Counting objects: 100% (379/379), done.\u001b[K\n",
            "remote: Compressing objects: 100% (197/197), done.\u001b[K\n",
            "remote: Total 1108 (delta 296), reused 220 (delta 180), pack-reused 729\u001b[K\n",
            "Receiving objects: 100% (1108/1108), 143.32 MiB | 16.95 MiB/s, done.\n",
            "Resolving deltas: 100% (802/802), done.\n",
            "Updating files: 100% (30/30), done.\n"
          ]
        }
      ]
    },
    {
      "cell_type": "code",
      "source": [
        "import sys\n",
        "import os\n",
        "import numpy as np\n",
        "from google.colab import drive\n",
        "import matplotlib.pyplot as plt\n",
        "import matplotlib as mpl\n",
        "mpl.use('ps')\n",
        "\n",
        "py_file_location = \"/content/FineTuning/two_concepts\"\n",
        "sys.path.append(os.path.abspath(py_file_location))\n",
        "py_file_location = \"/content/FineTuning/models\"\n",
        "sys.path.append(os.path.abspath(py_file_location))\n",
        "\n",
        "import textual_inversion_two_concepts as txt"
      ],
      "metadata": {
        "colab": {
          "base_uri": "https://localhost:8080/"
        },
        "id": "mfbd_Eat9rig",
        "outputId": "e8e0e857-27af-41dd-e783-ad7a43559383"
      },
      "execution_count": null,
      "outputs": [
        {
          "output_type": "stream",
          "name": "stdout",
          "text": [
            "  Installing build dependencies ... \u001b[?25l\u001b[?25hdone\n",
            "  Getting requirements to build wheel ... \u001b[?25l\u001b[?25hdone\n",
            "  Preparing metadata (pyproject.toml) ... \u001b[?25l\u001b[?25hdone\n",
            "  Building wheel for keras-cv (pyproject.toml) ... \u001b[?25l\u001b[?25hdone\n",
            "Looking in indexes: https://pypi.org/simple, https://us-python.pkg.dev/colab-wheels/public/simple/\n",
            "Requirement already satisfied: pyyaml in /usr/local/lib/python3.9/dist-packages (6.0)\n",
            "Requirement already satisfied: h5py in /usr/local/lib/python3.9/dist-packages (3.8.0)\n",
            "Requirement already satisfied: numpy>=1.14.5 in /usr/local/lib/python3.9/dist-packages (from h5py) (1.22.4)\n",
            "By using this model checkpoint, you acknowledge that its usage is subject to the terms of the CreativeML Open RAIL-M license at https://raw.githubusercontent.com/CompVis/stable-diffusion/main/LICENSE\n",
            "Downloading data from https://github.com/openai/CLIP/blob/main/clip/bpe_simple_vocab_16e6.txt.gz?raw=true\n",
            "1356917/1356917 [==============================] - 0s 0us/step\n",
            "Downloading data from https://i.imgur.com/9zAwPyt.jpg\n",
            "8784/8784 [==============================] - 0s 0us/step\n",
            "Downloading data from https://i.imgur.com/qCNFRl4.jpg\n",
            "14548/14548 [==============================] - 0s 1us/step\n",
            "Downloading data from https://i.imgur.com/kPH9XIh.jpg\n",
            "14897/14897 [==============================] - 0s 1us/step\n",
            "Downloading data from https://i.imgur.com/qy1k0QK.jpg\n",
            "13911/13911 [==============================] - 0s 1us/step\n"
          ]
        },
        {
          "output_type": "stream",
          "name": "stderr",
          "text": [
            "WARNING:tensorflow:From /usr/local/lib/python3.9/dist-packages/tensorflow/python/autograph/pyct/static_analysis/liveness.py:83: Analyzer.lamba_check (from tensorflow.python.autograph.pyct.static_analysis.liveness) is deprecated and will be removed after 2023-09-23.\n",
            "Instructions for updating:\n",
            "Lambda fuctions will be no more assumed to be used in the statement where they are used, or at least in the same block. https://github.com/tensorflow/tensorflow/issues/56089\n"
          ]
        },
        {
          "output_type": "stream",
          "name": "stdout",
          "text": [
            "Downloading data from https://i.imgur.com/BLLMggR.png\n",
            "17615/17615 [==============================] - 0s 1us/step\n",
            "Downloading data from https://i.imgur.com/PPQ2UtM.png\n",
            "15761/15761 [==============================] - 0s 1us/step\n",
            "Downloading data from https://i.imgur.com/6je73G3.png\n",
            "13071/13071 [==============================] - 0s 1us/step\n",
            "Downloading data from https://huggingface.co/fchollet/stable-diffusion/resolve/main/kcv_encoder.h5\n",
            "492466864/492466864 [==============================] - 2s 0us/step\n",
            "Downloading data from https://huggingface.co/fchollet/stable-diffusion/resolve/main/kcv_diffusion_model.h5\n",
            "3439090152/3439090152 [==============================] - 32s 0us/step\n",
            "Downloading data from https://huggingface.co/fchollet/stable-diffusion/resolve/main/kcv_decoder.h5\n",
            "198180272/198180272 [==============================] - 2s 0us/step\n",
            "Downloading data from https://huggingface.co/fchollet/stable-diffusion/resolve/main/vae_encoder.h5\n",
            "136824240/136824240 [==============================] - 1s 0us/step\n"
          ]
        }
      ]
    },
    {
      "cell_type": "code",
      "source": [
        "### Mount Google Drive\n",
        "drive.mount(\"/content/drive\")"
      ],
      "metadata": {
        "colab": {
          "base_uri": "https://localhost:8080/"
        },
        "id": "V-KgTaUHF81m",
        "outputId": "5386171a-f1ee-4599-dd5d-9ee3b0aa499a"
      },
      "execution_count": null,
      "outputs": [
        {
          "output_type": "stream",
          "name": "stdout",
          "text": [
            "Mounted at /content/drive\n"
          ]
        }
      ]
    },
    {
      "cell_type": "code",
      "source": [
        "### define paths where to store the arrays for cosine similarities\n",
        "path1 = '/content/drive/MyDrive/cosine_broc.npy'\n",
        "path2 = '/content/drive/MyDrive/cosine_emoji.npy'\n",
        "path3 = '/content/drive/MyDrive/cosine_combi.npy'"
      ],
      "metadata": {
        "id": "S9ytLWF5wHPM"
      },
      "execution_count": null,
      "outputs": []
    },
    {
      "cell_type": "code",
      "source": [
        "### embedding arrays for cosine similarity\n",
        "broccoli_embedding = []\n",
        "emoji_embedding = []\n",
        "combined_embedding = []\n",
        "cosine_similarity_broc = []\n",
        "cosine_similarity_emoji = []\n",
        "cosine_similarity_combi = []\n",
        "cosine_broc = []\n",
        "cosine_emoji = []\n",
        "cosine_combi = []\n",
        "### x axis af plot\n",
        "epoch_numb = [0]\n"
      ],
      "metadata": {
        "id": "beo2QRdC94X7"
      },
      "execution_count": null,
      "outputs": []
    },
    {
      "cell_type": "code",
      "source": [
        "def update():\n",
        "  \"\"\"This function updates three sets of cosine similarity values and saves them in three separate numpy files.\n",
        "  The first set of cosine similarity values is calculated between the \"broccoli\" embedding and the placeholder token for \"broccoli\". The resulting array is saved in a numpy file specified by the variable path1.\n",
        "  The second set of cosine similarity values is calculated between the \"emoji\" embedding and the placeholder token for \"emoji\". The resulting array is saved in a numpy file specified by the variable path2.\n",
        "  The third set of cosine similarity values is calculated between the combination of the \"broccoli\" embedding and a modified \"emoji\" embedding, and the placeholder token for the combined embeddings. The resulting array is saved in a numpy file specified by the variable path3.\n",
        "\n",
        "  Args:\n",
        "  - None\n",
        "\n",
        "  Returns:\n",
        "  - None\n",
        "  \"\"\"\n",
        "  cosine_similarity_broc.append(txt.cosine_sim(txt.get_embedding(\"broccoli\"), txt.get_embedding(txt.placeholder_token_broccoli)))\n",
        "  cosine_broc = np.array(cosine_similarity_broc)\n",
        "  np.save(path1, cosine_broc)\n",
        "\n",
        "\n",
        "  cosine_similarity_emoji.append(txt.cosine_sim(txt.get_embedding(\"emoji\"), txt.get_embedding(txt.placeholder_token_emoji)))\n",
        "  cosine_emoji = np.array(cosine_similarity_emoji)\n",
        "  np.save(path2, cosine_emoji)\n",
        "\n",
        "  combi = txt.get_embedding(\"broccoli\") + (0.3*(txt.get_embedding(\"emoji\") - txt.get_embedding(\"broccoli\")))\n",
        "  \n",
        "  cosine_similarity_combi.append(txt.cosine_sim(combi, txt.get_embedding(txt.placeholder_token_combined)))\n",
        "  cosine_combi = np.array(cosine_similarity_combi)\n",
        "  np.save(path3, cosine_combi)\n",
        "\n"
      ],
      "metadata": {
        "id": "MQ6tvWMqnX0k"
      },
      "execution_count": null,
      "outputs": []
    },
    {
      "cell_type": "code",
      "source": [
        "#save the similarities in arrays before training\n",
        "update()"
      ],
      "metadata": {
        "id": "e4doADxwuZtZ"
      },
      "execution_count": null,
      "outputs": []
    },
    {
      "cell_type": "code",
      "source": [
        "### training\n",
        "for i in range (3):\n",
        "  print( f\"Epoch:{i+1}\" )\n",
        "  txt.trainer.fit(\n",
        "      txt.train_ds,\n",
        "      epochs=1,\n",
        "  )\n",
        "\n",
        "  update()\n",
        "  ###expand x axis\n",
        "  epoch_numb.append(i+1)"
      ],
      "metadata": {
        "id": "XZVA19oKT2yB",
        "outputId": "cd6d18ff-9f1a-4b56-eba5-166589e1af6c",
        "colab": {
          "base_uri": "https://localhost:8080/"
        }
      },
      "execution_count": null,
      "outputs": [
        {
          "output_type": "stream",
          "name": "stdout",
          "text": [
            "Epoch:1\n",
            "220/220 [==============================] - 442s 2s/step - loss: 0.0627\n",
            "Epoch:2\n",
            "220/220 [==============================] - 346s 2s/step - loss: 0.0640\n",
            "Epoch:3\n",
            "220/220 [==============================] - 346s 2s/step - loss: 0.0569\n"
          ]
        }
      ]
    },
    {
      "cell_type": "code",
      "source": [
        "### load the arrys from drive\n",
        "cosine_broc = np.load(path1, allow_pickle=True)\n",
        "cosine_emoji = np.load(path2, allow_pickle=True)\n",
        "cosine_combi = np.load(path3, allow_pickle=True)"
      ],
      "metadata": {
        "id": "rNTo8LtRtyC4"
      },
      "execution_count": null,
      "outputs": []
    },
    {
      "cell_type": "code",
      "source": [
        "print(epoch_numb)\n",
        "print(cosine_broc)"
      ],
      "metadata": {
        "id": "YOPyjz9oyIpC",
        "colab": {
          "base_uri": "https://localhost:8080/"
        },
        "outputId": "514b8901-5f10-4298-da37-3f87e8cd557c"
      },
      "execution_count": null,
      "outputs": [
        {
          "output_type": "stream",
          "name": "stdout",
          "text": [
            "[0, 1, 2, 3]\n",
            "[0.99999994 0.9836218  0.962476   0.94018704]\n"
          ]
        }
      ]
    },
    {
      "cell_type": "code",
      "source": [
        "def plot(x_values, y_values, color, xlabel, ylabel, title):\n",
        "    \"\"\"Plot a line graph using Matplotlib.\n",
        "\n",
        "    Args:\n",
        "    - x_values (array-like): x-coordinates of data points to be plotted\n",
        "    - y_values (array-like): y-coordinates of data points to be plotted\n",
        "    - color (str): color of the line\n",
        "    - xlabel (str): label of the x-axis\n",
        "    - ylabel (str): label of the y-axis\n",
        "    - title (str): title of the plot\n",
        "\n",
        "    Returns:\n",
        "    - None\n",
        "\n",
        "    Raises:\n",
        "    - None\n",
        "    \"\"\"\n",
        "    plt.figure()\n",
        "\n",
        "    plt.figure()  # Create a new figure\n",
        "    plt.plot(x_values, y_values, color)\n",
        "    plt.xlabel(xlabel)\n",
        "    plt.ylabel(ylabel)\n",
        "    plt.title(title)\n",
        "    plt.show()\n",
        "     \n"
      ],
      "metadata": {
        "id": "eDu8uyUJvgW3"
      },
      "execution_count": null,
      "outputs": []
    },
    {
      "cell_type": "code",
      "source": [
        "# Extract x and y values from the data\n",
        "x_values = epoch_numb\n",
        "y_values = cosine_broc\n",
        "\n",
        "# Plot data using Matplotlib\n",
        "plot(x_values = x_values, y_values = y_values, color='darkblue', xlabel = 'Epochs', ylabel = 'Cosine Similarity', title = 'Cosine Similarity between basis and placeholder token broccoli')\n",
        "plt.show()\n",
        "\n",
        "# Save the plot as a file\n",
        "plt.savefig('/content/drive/MyDrive/EPS/CosineBrocc.eps', format='eps')\n",
        "plt.savefig('/content/drive/MyDrive/EPS/CosineBrocc.pdf', format='pdf')"
      ],
      "metadata": {
        "id": "O-SNaCvruxR4"
      },
      "execution_count": null,
      "outputs": []
    },
    {
      "cell_type": "code",
      "source": [
        "x_values = epoch_numb\n",
        "y_values = cosine_emoji\n",
        "\n",
        "# Plot data using Matplotlib\n",
        "plot(x_values = x_values, y_values = y_values, color='darkblue', xlabel = 'Epochs', ylabel = 'Cosine Similarity', title = 'Cosine Similarity between basis and placeholder token emoji')\n",
        "\n",
        "# Save the plot as a file\n",
        "plt.savefig('/content/drive/MyDrive/EPS/CosineEmoji.eps', format='eps')\n",
        "plt.savefig('/content/drive/MyDrive/EPS/CosineEmoji.pdf', format='pdf')\n",
        "plt.show()"
      ],
      "metadata": {
        "id": "EgBLZe-6xlte"
      },
      "execution_count": null,
      "outputs": []
    },
    {
      "cell_type": "code",
      "source": [
        "x_values = epoch_numb\n",
        "y_values = cosine_combi\n",
        "\n",
        "# Plot data using Matplotlib\n",
        "plot(x_values = x_values, y_values = y_values, color='darkblue', xlabel = 'Epochs', ylabel = 'Cosine Similarity', title = 'Cosine Similarity between basis and placeholder token combined')\n",
        "\n",
        "# Save the plot as a file\n",
        "plt.savefig('/content/drive/MyDrive/EPS/CosineCombi.eps', format='eps')\n",
        "plt.savefig('/content/drive/MyDrive/EPS/CosineCombi.pdf', format='pdf')"
      ],
      "metadata": {
        "id": "uRkm8XBAxwMq"
      },
      "execution_count": null,
      "outputs": []
    }
  ]
}