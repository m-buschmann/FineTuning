{
  "nbformat": 4,
  "nbformat_minor": 0,
  "metadata": {
    "colab": {
      "provenance": [],
      "machine_shape": "hm",
      "include_colab_link": true
    },
    "kernelspec": {
      "name": "python3",
      "display_name": "Python 3"
    },
    "language_info": {
      "name": "python"
    },
    "accelerator": "GPU",
    "gpuClass": "premium"
  },
  "cells": [
    {
      "cell_type": "markdown",
      "metadata": {
        "id": "view-in-github",
        "colab_type": "text"
      },
      "source": [
        "<a href=\"https://colab.research.google.com/github/tensorflow-project/FineTuning/blob/main/Experiments/CosineSimilarity2Concepts.ipynb\" target=\"_parent\"><img src=\"https://colab.research.google.com/assets/colab-badge.svg\" alt=\"Open In Colab\"/></a>"
      ]
    },
    {
      "cell_type": "code",
      "source": [
        "get_ipython().system('pip install -q git+https://github.com/keras-team/keras-cv.git')\n",
        "get_ipython().system('pip install -q tensorflow==2.11.0')\n",
        "get_ipython().system('pip install pyyaml h5py')\n"
      ],
      "metadata": {
        "colab": {
          "base_uri": "https://localhost:8080/"
        },
        "id": "g92iOKQGQ66l",
        "outputId": "8c5fbca1-af1a-4abe-c22f-6a54de275645"
      },
      "execution_count": 1,
      "outputs": [
        {
          "output_type": "stream",
          "name": "stdout",
          "text": [
            "  Installing build dependencies ... \u001b[?25l\u001b[?25hdone\n",
            "  Getting requirements to build wheel ... \u001b[?25l\u001b[?25hdone\n",
            "  Preparing metadata (pyproject.toml) ... \u001b[?25l\u001b[?25hdone\n",
            "  Building wheel for keras-cv (pyproject.toml) ... \u001b[?25l\u001b[?25hdone\n",
            "\u001b[2K     \u001b[90m━━━━━━━━━━━━━━━━━━━━━━━━━━━━━━━━━━━━━━━\u001b[0m \u001b[32m588.3/588.3 MB\u001b[0m \u001b[31m2.2 MB/s\u001b[0m eta \u001b[36m0:00:00\u001b[0m\n",
            "\u001b[2K     \u001b[90m━━━━━━━━━━━━━━━━━━━━━━━━━━━━━━━━━━━━━━━━\u001b[0m \u001b[32m1.1/1.1 MB\u001b[0m \u001b[31m68.0 MB/s\u001b[0m eta \u001b[36m0:00:00\u001b[0m\n",
            "\u001b[2K     \u001b[90m━━━━━━━━━━━━━━━━━━━━━━━━━━━━━━━━━━━━━━\u001b[0m \u001b[32m439.2/439.2 KB\u001b[0m \u001b[31m41.2 MB/s\u001b[0m eta \u001b[36m0:00:00\u001b[0m\n",
            "\u001b[2K     \u001b[90m━━━━━━━━━━━━━━━━━━━━━━━━━━━━━━━━━━━━━━━━\u001b[0m \u001b[32m6.0/6.0 MB\u001b[0m \u001b[31m101.5 MB/s\u001b[0m eta \u001b[36m0:00:00\u001b[0m\n",
            "\u001b[2K     \u001b[90m━━━━━━━━━━━━━━━━━━━━━━━━━━━━━━━━━━━━━━━━\u001b[0m \u001b[32m1.7/1.7 MB\u001b[0m \u001b[31m79.3 MB/s\u001b[0m eta \u001b[36m0:00:00\u001b[0m\n",
            "\u001b[2K     \u001b[90m━━━━━━━━━━━━━━━━━━━━━━━━━━━━━━━━━━━━━━━━\u001b[0m \u001b[32m4.9/4.9 MB\u001b[0m \u001b[31m99.1 MB/s\u001b[0m eta \u001b[36m0:00:00\u001b[0m\n",
            "\u001b[?25hLooking in indexes: https://pypi.org/simple, https://us-python.pkg.dev/colab-wheels/public/simple/\n",
            "Requirement already satisfied: pyyaml in /usr/local/lib/python3.9/dist-packages (6.0)\n",
            "Requirement already satisfied: h5py in /usr/local/lib/python3.9/dist-packages (3.8.0)\n",
            "Requirement already satisfied: numpy>=1.14.5 in /usr/local/lib/python3.9/dist-packages (from h5py) (1.22.4)\n"
          ]
        }
      ]
    },
    {
      "cell_type": "code",
      "source": [
        "!git clone https://github.com/tensorflow-project/FineTuning"
      ],
      "metadata": {
        "colab": {
          "base_uri": "https://localhost:8080/"
        },
        "id": "LBGcW8Cv9eyo",
        "outputId": "367a6265-1c51-41a4-ff52-0662e3ed4c9d"
      },
      "execution_count": 2,
      "outputs": [
        {
          "output_type": "stream",
          "name": "stdout",
          "text": [
            "Cloning into 'FineTuning'...\n",
            "remote: Enumerating objects: 2062, done.\u001b[K\n",
            "remote: Counting objects: 100% (1025/1025), done.\u001b[K\n",
            "remote: Compressing objects: 100% (417/417), done.\u001b[K\n",
            "remote: Total 2062 (delta 774), reused 819 (delta 603), pack-reused 1037\u001b[K\n",
            "Receiving objects: 100% (2062/2062), 190.90 MiB | 20.33 MiB/s, done.\n",
            "Resolving deltas: 100% (1493/1493), done.\n"
          ]
        }
      ]
    },
    {
      "cell_type": "code",
      "source": [
        "import sys\n",
        "import os\n",
        "import numpy as np\n",
        "from google.colab import drive\n",
        "import matplotlib.pyplot as plt\n",
        "import matplotlib as mpl\n",
        "import tensorflow as tf\n",
        "import keras\n",
        "import keras_cv\n",
        "from keras_cv import layers as cv_layers\n",
        "\n",
        "### for pdf or eps file\n",
        "#mpl.use('ps')\n",
        "\n",
        "py_file_location = \"/content/FineTuning/two_concepts\"\n",
        "sys.path.append(os.path.abspath(py_file_location))\n",
        "py_file_location = \"/content/FineTuning/models\"\n",
        "sys.path.append(os.path.abspath(py_file_location))\n",
        "\n",
        "import textual_inversion_two_concepts as txt"
      ],
      "metadata": {
        "colab": {
          "base_uri": "https://localhost:8080/"
        },
        "id": "mfbd_Eat9rig",
        "outputId": "e4946c7f-10c1-4d3c-e90b-43971ed68b4e"
      },
      "execution_count": 3,
      "outputs": [
        {
          "output_type": "stream",
          "name": "stdout",
          "text": [
            "  Installing build dependencies ... \u001b[?25l\u001b[?25hdone\n",
            "  Getting requirements to build wheel ... \u001b[?25l\u001b[?25hdone\n",
            "  Preparing metadata (pyproject.toml) ... \u001b[?25l\u001b[?25hdone\n",
            "Looking in indexes: https://pypi.org/simple, https://us-python.pkg.dev/colab-wheels/public/simple/\n",
            "Requirement already satisfied: pyyaml in /usr/local/lib/python3.9/dist-packages (6.0)\n",
            "Requirement already satisfied: h5py in /usr/local/lib/python3.9/dist-packages (3.8.0)\n",
            "Requirement already satisfied: numpy>=1.14.5 in /usr/local/lib/python3.9/dist-packages (from h5py) (1.22.4)\n"
          ]
        }
      ]
    },
    {
      "cell_type": "code",
      "source": [
        "### mount Google Drive\n",
        "drive.mount(\"/content/drive\")"
      ],
      "metadata": {
        "colab": {
          "base_uri": "https://localhost:8080/"
        },
        "id": "V-KgTaUHF81m",
        "outputId": "7b57bc5a-8e1b-4bd0-e512-1e32b48a3317"
      },
      "execution_count": 4,
      "outputs": [
        {
          "output_type": "stream",
          "name": "stdout",
          "text": [
            "Mounted at /content/drive\n"
          ]
        }
      ]
    },
    {
      "cell_type": "code",
      "source": [
        "### define paths where to store the arrays for cosine similarities\n",
        "path1 = '/content/drive/MyDrive/cosine_broc.npy'\n",
        "path2 = '/content/drive/MyDrive/cosine_emoji.npy'"
      ],
      "metadata": {
        "id": "S9ytLWF5wHPM"
      },
      "execution_count": 5,
      "outputs": []
    },
    {
      "cell_type": "code",
      "source": [
        "### embedding arrays for cosine similarity\n",
        "broccoli_embedding = []\n",
        "emoji_embedding = []\n",
        "\n",
        "cosine_similarity_broc = []\n",
        "cosine_similarity_emoji = []\n",
        "\n",
        "cosine_broc = []\n",
        "cosine_emoji = []\n",
        "### x axis af plot\n",
        "epoch_numb = [0]\n",
        "\n",
        "### create an instance of the Stable Diffusion model\n",
        "stable_diffusion = txt.StableDiffusion()\n",
        "\n",
        "### our new concept which is later inserted in the different prompts (for training and image generation)\n",
        "placeholder_token_broccoli = \"<my-broccoli-token>\"\n",
        "placeholder_token_emoji = \"<my-emoji-token>\"\n",
        "placeholder_token_combined = \"<my-broccoli-emoji-token>\"\n",
        "\n",
        "### Add our placeholder_tokens to our stable_diffusion Model\n",
        "stable_diffusion.tokenizer.add_tokens(placeholder_token_broccoli)\n",
        "stable_diffusion.tokenizer.add_tokens(placeholder_token_emoji)\n",
        "stable_diffusion.tokenizer.add_tokens(placeholder_token_combined)\n",
        "\n",
        "\n",
        "train_ds = txt.create_dataset(stable_diffusion, placeholder_token_broccoli, placeholder_token_emoji)\n",
        "\n",
        "txt.textual_preprocessing(stable_diffusion, placeholder_token_broccoli, placeholder_token_emoji, placeholder_token_combined)"
      ],
      "metadata": {
        "id": "beo2QRdC94X7",
        "outputId": "a70be560-2d3f-4095-f43e-6e137b591bb6",
        "colab": {
          "base_uri": "https://localhost:8080/"
        }
      },
      "execution_count": 6,
      "outputs": [
        {
          "output_type": "stream",
          "name": "stdout",
          "text": [
            "By using this model checkpoint, you acknowledge that its usage is subject to the terms of the CreativeML Open RAIL-M license at https://raw.githubusercontent.com/CompVis/stable-diffusion/main/LICENSE\n",
            "Downloading data from https://github.com/openai/CLIP/blob/main/clip/bpe_simple_vocab_16e6.txt.gz?raw=true\n",
            "1356917/1356917 [==============================] - 0s 0us/step\n",
            "Downloading data from https://i.imgur.com/9zAwPyt.jpg\n",
            "8784/8784 [==============================] - 0s 0us/step\n",
            "Downloading data from https://i.imgur.com/qCNFRl4.jpg\n",
            "14548/14548 [==============================] - 0s 1us/step\n",
            "Downloading data from https://i.imgur.com/kPH9XIh.jpg\n",
            "14897/14897 [==============================] - 0s 1us/step\n",
            "Downloading data from https://i.imgur.com/qy1k0QK.jpg\n",
            "13911/13911 [==============================] - 0s 1us/step\n"
          ]
        },
        {
          "output_type": "stream",
          "name": "stderr",
          "text": [
            "WARNING:tensorflow:From /usr/local/lib/python3.9/dist-packages/tensorflow/python/autograph/pyct/static_analysis/liveness.py:83: Analyzer.lamba_check (from tensorflow.python.autograph.pyct.static_analysis.liveness) is deprecated and will be removed after 2023-09-23.\n",
            "Instructions for updating:\n",
            "Lambda fuctions will be no more assumed to be used in the statement where they are used, or at least in the same block. https://github.com/tensorflow/tensorflow/issues/56089\n"
          ]
        },
        {
          "output_type": "stream",
          "name": "stdout",
          "text": [
            "Downloading data from https://i.imgur.com/BLLMggR.png\n",
            "17615/17615 [==============================] - 0s 1us/step\n",
            "Downloading data from https://i.imgur.com/PPQ2UtM.png\n",
            "15761/15761 [==============================] - 0s 1us/step\n",
            "Downloading data from https://i.imgur.com/6je73G3.png\n",
            "13071/13071 [==============================] - 0s 1us/step\n",
            "Downloading data from https://huggingface.co/fchollet/stable-diffusion/resolve/main/kcv_encoder.h5\n",
            "492466864/492466864 [==============================] - 6s 0us/step\n",
            "Downloading data from https://huggingface.co/fchollet/stable-diffusion/resolve/main/kcv_diffusion_model.h5\n",
            "3439090152/3439090152 [==============================] - 42s 0us/step\n",
            "Downloading data from https://huggingface.co/fchollet/stable-diffusion/resolve/main/kcv_decoder.h5\n",
            "198180272/198180272 [==============================] - 2s 0us/step\n"
          ]
        }
      ]
    },
    {
      "cell_type": "code",
      "source": [
        "def update():\n",
        "  \"\"\"This function updates three sets of cosine similarity values and saves them in three separate numpy files.\n",
        "  The first set of cosine similarity values is calculated between the \"broccoli\" embedding and the placeholder token for \"broccoli\". The resulting array is saved in a numpy file specified by the variable path1.\n",
        "  The second set of cosine similarity values is calculated between the \"emoji\" embedding and the placeholder token for \"emoji\". The resulting array is saved in a numpy file specified by the variable path2.\n",
        "  The third set of cosine similarity values is calculated between the combination of the \"broccoli\" embedding and a modified \"emoji\" embedding, and the placeholder token for the combined embeddings. The resulting array is saved in a numpy file specified by the variable path3.\n",
        "\n",
        "  Args:\n",
        "  - None\n",
        "\n",
        "  Returns:\n",
        "  - None\n",
        "  \"\"\"\n",
        "  cosine_similarity_broc.append(txt.cosine_sim(txt.get_embedding(\"broccoli\", stable_diffusion), txt.get_embedding(placeholder_token_broccoli, stable_diffusion)))\n",
        "  cosine_broc = np.array(cosine_similarity_broc)\n",
        "  np.save(path1, cosine_broc)\n",
        "\n",
        "\n",
        "  cosine_similarity_emoji.append(txt.cosine_sim(txt.get_embedding(\"emoji\", stable_diffusion), txt.get_embedding(placeholder_token_emoji, stable_diffusion)))\n",
        "  cosine_emoji = np.array(cosine_similarity_emoji)\n",
        "  np.save(path2, cosine_emoji)\n"
      ],
      "metadata": {
        "id": "MQ6tvWMqnX0k"
      },
      "execution_count": 7,
      "outputs": []
    },
    {
      "cell_type": "code",
      "source": [
        "### save the similarities before training in arrays \n",
        "update()\n",
        "\n",
        "### beta is the diffusion rate\n",
        "noise_scheduler = txt.NoiseScheduler(\n",
        "    ### beta_start determines the amount of noise added at the start of the denoising process\n",
        "    beta_start=0.00085,\n",
        "    ### beta_end at the end of the denoising process\n",
        "    beta_end=0.012,\n",
        "    ### the beta_schedule determines that the diffusion rate increases linearly\n",
        "    beta_schedule=\"scaled_linear\",\n",
        "    train_timesteps=1000,\n",
        ")\n",
        "\n",
        "### Initialize the model we use to fine tune our concept\n",
        "trainer = txt.StableDiffusionFineTuner(stable_diffusion, noise_scheduler, name=\"trainer\")\n",
        "#t = txt.StableDiffusionFineTuner(stable_diffusion, noise_scheduler, name=\"t\")\n",
        "\n",
        "\n",
        "#EPOCHS = 50\n",
        "### learning rate decays depending on the number of epochs to avoid convergence issues in few epochs \n",
        "### in the originial tutorial a scheduler is used but we experienced to have better results without a scheduler\n",
        "\"\"\"learning_rate = keras.optimizers.schedules.CosineDecay(\n",
        "    initial_learning_rate=1e-4, decay_steps=train_ds.cardinality() * EPOCHS\n",
        ")\"\"\"\n",
        "### inizialize the optimizer\n",
        "optimizer = tf.keras.optimizers.Adam(\n",
        "    weight_decay=0.004, learning_rate=1e-4, epsilon=1e-8, global_clipnorm=10\n",
        ")\n",
        "\n",
        "trainer.compile(\n",
        "    optimizer=optimizer,\n",
        "    # We are performing reduction manually in our train step, so none is required here.\n",
        "    loss=keras.losses.MeanSquaredError(reduction=\"none\"),\n",
        ")  \n",
        "\n",
        "### choose where to save your newly generated weights\n",
        "path = '/content/drive/MyDrive/weight_with_two_concepts.npy'"
      ],
      "metadata": {
        "id": "e4doADxwuZtZ",
        "outputId": "03b03e11-34ae-4cf2-c3d5-db06174f9d32",
        "colab": {
          "base_uri": "https://localhost:8080/"
        }
      },
      "execution_count": 8,
      "outputs": [
        {
          "output_type": "stream",
          "name": "stdout",
          "text": [
            "Downloading data from https://huggingface.co/fchollet/stable-diffusion/resolve/main/vae_encoder.h5\n",
            "136824240/136824240 [==============================] - 2s 0us/step\n"
          ]
        }
      ]
    },
    {
      "cell_type": "code",
      "source": [
        "### training\n",
        "for i in range (20):\n",
        "  print( f\"Epoch:{i+1}\" )\n",
        "  trainer.fit(\n",
        "      train_ds,\n",
        "      epochs=1,\n",
        "  )\n",
        "\n",
        "  update()\n",
        "  ### expand x axis\n",
        "  epoch_numb.append(i+1)\n",
        "  ###get the weights of the text encoder and save the to Google Drive\n",
        "  text_encoder_weights = np.array(stable_diffusion.text_encoder.get_weights(), dtype=object)\n",
        "\n",
        "  ### Save the weights array to a file on your Google Drive\n",
        "  np.save(path, text_encoder_weights)"
      ],
      "metadata": {
        "id": "XZVA19oKT2yB",
        "outputId": "b20237ce-21f1-43c5-9107-6cfc62da9609",
        "colab": {
          "base_uri": "https://localhost:8080/"
        }
      },
      "execution_count": 9,
      "outputs": [
        {
          "output_type": "stream",
          "name": "stdout",
          "text": [
            "Epoch:1\n",
            "220/220 [==============================] - 148s 271ms/step - loss: 0.0739\n",
            "Epoch:2\n",
            "220/220 [==============================] - 59s 267ms/step - loss: 0.0622\n",
            "Epoch:3\n",
            "220/220 [==============================] - 59s 267ms/step - loss: 0.0642\n",
            "Epoch:4\n",
            "220/220 [==============================] - 59s 267ms/step - loss: 0.0730\n",
            "Epoch:5\n",
            "220/220 [==============================] - 61s 272ms/step - loss: 0.0628\n",
            "Epoch:6\n",
            "220/220 [==============================] - 60s 268ms/step - loss: 0.0545\n",
            "Epoch:7\n",
            "220/220 [==============================] - 59s 267ms/step - loss: 0.0514\n",
            "Epoch:8\n",
            "220/220 [==============================] - 59s 267ms/step - loss: 0.0535\n",
            "Epoch:9\n",
            "220/220 [==============================] - 60s 268ms/step - loss: 0.0698\n",
            "Epoch:10\n",
            "220/220 [==============================] - 60s 267ms/step - loss: 0.0605\n",
            "Epoch:11\n",
            "220/220 [==============================] - 60s 267ms/step - loss: 0.0611\n",
            "Epoch:12\n",
            "220/220 [==============================] - 60s 268ms/step - loss: 0.0761\n",
            "Epoch:13\n",
            "220/220 [==============================] - 59s 267ms/step - loss: 0.0585\n",
            "Epoch:14\n",
            "220/220 [==============================] - 59s 267ms/step - loss: 0.0582\n",
            "Epoch:15\n",
            "220/220 [==============================] - 60s 268ms/step - loss: 0.0644\n",
            "Epoch:16\n",
            "220/220 [==============================] - 60s 268ms/step - loss: 0.0562\n",
            "Epoch:17\n",
            "220/220 [==============================] - 60s 268ms/step - loss: 0.0502\n",
            "Epoch:18\n",
            "220/220 [==============================] - 60s 268ms/step - loss: 0.0628\n",
            "Epoch:19\n",
            "220/220 [==============================] - 60s 268ms/step - loss: 0.0588\n",
            "Epoch:20\n",
            "220/220 [==============================] - 60s 269ms/step - loss: 0.0637\n"
          ]
        }
      ]
    },
    {
      "cell_type": "code",
      "source": [
        "### load the arrys from drive\n",
        "cosine_broc = np.load(path1, allow_pickle=True)\n",
        "cosine_emoji = np.load(path2, allow_pickle=True)"
      ],
      "metadata": {
        "id": "rNTo8LtRtyC4"
      },
      "execution_count": 10,
      "outputs": []
    },
    {
      "cell_type": "code",
      "source": [
        "### just for comparison\n",
        "print(epoch_numb)\n",
        "print(cosine_broc)"
      ],
      "metadata": {
        "id": "YOPyjz9oyIpC",
        "outputId": "f5da6746-eec0-40be-d6ba-e37777f904f3",
        "colab": {
          "base_uri": "https://localhost:8080/"
        }
      },
      "execution_count": 11,
      "outputs": [
        {
          "output_type": "stream",
          "name": "stdout",
          "text": [
            "[0, 1, 2, 3, 4, 5, 6, 7, 8, 9, 10, 11, 12, 13, 14, 15, 16, 17, 18, 19, 20]\n",
            "[0.99999994 0.9875042  0.97402835 0.9556037  0.93469    0.91864985\n",
            " 0.8930173  0.8803751  0.8594744  0.8401171  0.8216739  0.800833\n",
            " 0.7835845  0.7669101  0.7428767  0.7278016  0.7145691  0.70305985\n",
            " 0.68587977 0.6735946  0.6640107 ]\n"
          ]
        }
      ]
    },
    {
      "cell_type": "code",
      "source": [
        "def plot(x_values, y_values, color, xlabel, ylabel, title):\n",
        "    \"\"\"Plot a line graph using Matplotlib.\n",
        "\n",
        "    Args:\n",
        "    - x_values (array-like): x-coordinates of data points to be plotted\n",
        "    - y_values (array-like): y-coordinates of data points to be plotted\n",
        "    - color (str): color of the line\n",
        "    - xlabel (str): label of the x-axis\n",
        "    - ylabel (str): label of the y-axis\n",
        "    - title (str): title of the plot\n",
        "\n",
        "    Returns:\n",
        "    - None\n",
        "\n",
        "    Raises:\n",
        "    - None\n",
        "    \"\"\"\n",
        "    plt.figure()\n",
        "\n",
        "    plt.figure()  # Create a new figure\n",
        "    plt.plot(x_values, y_values, color)\n",
        "    plt.xlabel(xlabel)\n",
        "    plt.ylabel(ylabel)\n",
        "    plt.title(title)\n",
        "    plt.show()\n",
        "     \n"
      ],
      "metadata": {
        "id": "eDu8uyUJvgW3"
      },
      "execution_count": 12,
      "outputs": []
    },
    {
      "cell_type": "code",
      "source": [
        "### extract x and y values from the data\n",
        "x_values = epoch_numb\n",
        "y_values = cosine_broc\n",
        "\n",
        "### plot data using Matplotlib\n",
        "plot(x_values = x_values, y_values = y_values, color='darkblue', xlabel = 'Epochs', ylabel = 'Cosine Similarity', title = 'Cosine Similarity between basis and placeholder token broccoli')\n",
        "\n",
        "### save the plot as a file\n",
        "plt.savefig('/content/drive/MyDrive/CosineBrocc.jpg')\n",
        "\n",
        "### if you want to save the figure in another format, you can also choose one of those below\n",
        "### plt.savefig('/content/drive/MyDrive/EPS/CosineBrocc.eps', format='eps')\n",
        "### plt.savefig('/content/drive/MyDrive/EPS/CosineBrocc.pdf', format='pdf')"
      ],
      "metadata": {
        "id": "O-SNaCvruxR4",
        "outputId": "6fc98dec-6adb-4d2f-e2dc-2d075c53d818",
        "colab": {
          "base_uri": "https://localhost:8080/",
          "height": 507
        }
      },
      "execution_count": 13,
      "outputs": [
        {
          "output_type": "display_data",
          "data": {
            "text/plain": [
              "<Figure size 640x480 with 0 Axes>"
            ]
          },
          "metadata": {}
        },
        {
          "output_type": "display_data",
          "data": {
            "text/plain": [
              "<Figure size 640x480 with 1 Axes>"
            ],
            "image/png": "[encoded data removed]"
          },
          "metadata": {}
        },
        {
          "output_type": "display_data",
          "data": {
            "text/plain": [
              "<Figure size 640x480 with 0 Axes>"
            ]
          },
          "metadata": {}
        }
      ]
    },
    {
      "cell_type": "code",
      "source": [
        "### extract x and y values from the data\n",
        "x_values = epoch_numb\n",
        "y_values = cosine_emoji\n",
        "\n",
        "### plot data using Matplotlib\n",
        "plot(x_values = x_values, y_values = y_values, color='darkblue', xlabel = 'Epochs', ylabel = 'Cosine Similarity', title = 'Cosine Similarity between basis and placeholder token emoji')\n",
        "\n",
        "### save the plot as a file\n",
        "plt.savefig('/content/drive/MyDrive/CosineEmoji.jpg', format = 'jpg')\n",
        "\n",
        "### if you want to save the figure in another format, you can also choose one of those below\n",
        "### plt.savefig('/content/drive/MyDrive/EPS/CosineBrocc.eps', format='eps')\n",
        "### plt.savefig('/content/drive/MyDrive/EPS/CosineBrocc.pdf', format='pdf')"
      ],
      "metadata": {
        "id": "EgBLZe-6xlte",
        "outputId": "62266718-3b7b-4fca-bdef-0449523b9240",
        "colab": {
          "base_uri": "https://localhost:8080/",
          "height": 507
        }
      },
      "execution_count": 22,
      "outputs": [
        {
          "output_type": "display_data",
          "data": {
            "text/plain": [
              "<Figure size 640x480 with 0 Axes>"
            ]
          },
          "metadata": {}
        },
        {
          "output_type": "display_data",
          "data": {
            "text/plain": [
              "<Figure size 640x480 with 1 Axes>"
            ],
            "image/png": "[encoded data removed]"
          },
          "metadata": {}
        },
        {
          "output_type": "display_data",
          "data": {
            "text/plain": [
              "<Figure size 640x480 with 0 Axes>"
            ]
          },
          "metadata": {}
        }
      ]
    }
  ]
}