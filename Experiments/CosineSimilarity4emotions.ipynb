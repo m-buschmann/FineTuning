{
  "nbformat": 4,
  "nbformat_minor": 0,
  "metadata": {
    "colab": {
      "provenance": [],
      "machine_shape": "hm",
      "include_colab_link": true
    },
    "kernelspec": {
      "name": "python3",
      "display_name": "Python 3"
    },
    "language_info": {
      "name": "python"
    },
    "accelerator": "GPU",
    "gpuClass": "premium"
  },
  "cells": [
    {
      "cell_type": "markdown",
      "metadata": {
        "id": "view-in-github",
        "colab_type": "text"
      },
      "source": [
        "<a href=\"https://colab.research.google.com/github/tensorflow-project/FineTuning/blob/main/Experiments/CosineSimilarity4emotions.ipynb\" target=\"_parent\"><img src=\"https://colab.research.google.com/assets/colab-badge.svg\" alt=\"Open In Colab\"/></a>"
      ]
    },
    {
      "cell_type": "code",
      "source": [
        "!git clone https://github.com/tensorflow-project/FineTuning"
      ],
      "metadata": {
        "colab": {
          "base_uri": "https://localhost:8080/"
        },
        "id": "NHvXPnQkeyzf",
        "outputId": "8ce4e768-b316-4659-a5be-b52b49eaa330"
      },
      "execution_count": null,
      "outputs": [
        {
          "output_type": "stream",
          "name": "stdout",
          "text": [
            "Cloning into 'FineTuning'...\n",
            "remote: Enumerating objects: 1027, done.\u001b[K\n",
            "remote: Counting objects: 100% (298/298), done.\u001b[K\n",
            "remote: Compressing objects: 100% (117/117), done.\u001b[K\n",
            "remote: Total 1027 (delta 241), reused 221 (delta 180), pack-reused 729\u001b[K\n",
            "Receiving objects: 100% (1027/1027), 143.26 MiB | 16.37 MiB/s, done.\n",
            "Resolving deltas: 100% (747/747), done.\n"
          ]
        }
      ]
    },
    {
      "cell_type": "code",
      "source": [
        "import sys\n",
        "import os\n",
        "from google.colab import drive\n",
        "import numpy as np\n",
        "\n",
        "py_file_location = \"/content/FineTuning/four_emotions\"\n",
        "sys.path.append(os.path.abspath(py_file_location))\n",
        "py_file_location = \"/content/FineTuning/models\"\n",
        "sys.path.append(os.path.abspath(py_file_location))\n",
        "\n",
        "drive.mount(\"/content/drive\")\n",
        "\n",
        "import os\n",
        "from google.colab import drive\n",
        "import numpy as np\n",
        "import matplotlib.pyplot as plt\n",
        "import matplotlib as mpl\n",
        "mpl.use('ps')\n",
        "\n",
        "import csv\n",
        "import matplotlib.pyplot as plt\n",
        "from google.oauth2.credentials import Credentials\n",
        "from googleapiclient.discovery import build\n",
        "from googleapiclient.errors import HttpError\n",
        "\n",
        "import textual_inversion_four_emotions as txt"
      ],
      "metadata": {
        "id": "SD_KkNtNSth_",
        "colab": {
          "base_uri": "https://localhost:8080/"
        },
        "outputId": "5e6f77cf-31ac-4d17-ba57-e0ae3d8d064f"
      },
      "execution_count": null,
      "outputs": [
        {
          "output_type": "stream",
          "name": "stdout",
          "text": [
            "Mounted at /content/drive\n",
            "  Installing build dependencies ... \u001b[?25l\u001b[?25hdone\n",
            "  Getting requirements to build wheel ... \u001b[?25l\u001b[?25hdone\n",
            "  Preparing metadata (pyproject.toml) ... \u001b[?25l\u001b[?25hdone\n",
            "  Building wheel for keras-cv (pyproject.toml) ... \u001b[?25l\u001b[?25hdone\n",
            "Looking in indexes: https://pypi.org/simple, https://us-python.pkg.dev/colab-wheels/public/simple/\n",
            "Requirement already satisfied: pyyaml in /usr/local/lib/python3.9/dist-packages (6.0)\n",
            "Requirement already satisfied: h5py in /usr/local/lib/python3.9/dist-packages (3.8.0)\n",
            "Requirement already satisfied: numpy>=1.14.5 in /usr/local/lib/python3.9/dist-packages (from h5py) (1.22.4)\n",
            "By using this model checkpoint, you acknowledge that its usage is subject to the terms of the CreativeML Open RAIL-M license at https://raw.githubusercontent.com/CompVis/stable-diffusion/main/LICENSE\n",
            "Downloading data from https://github.com/openai/CLIP/blob/main/clip/bpe_simple_vocab_16e6.txt.gz?raw=true\n",
            "1356917/1356917 [==============================] - 0s 0us/step\n",
            "Downloading data from https://i.imgur.com/9zAwPyt.jpg\n",
            "8784/8784 [==============================] - 0s 0us/step\n",
            "Downloading data from https://i.imgur.com/qCNFRl4.jpg\n",
            "14548/14548 [==============================] - 0s 1us/step\n",
            "Downloading data from https://i.imgur.com/YLnylVr.png\n",
            "202761/202761 [==============================] - 0s 2us/step\n"
          ]
        },
        {
          "output_type": "stream",
          "name": "stderr",
          "text": [
            "WARNING:tensorflow:From /usr/local/lib/python3.9/dist-packages/tensorflow/python/autograph/pyct/static_analysis/liveness.py:83: Analyzer.lamba_check (from tensorflow.python.autograph.pyct.static_analysis.liveness) is deprecated and will be removed after 2023-09-23.\n",
            "Instructions for updating:\n",
            "Lambda fuctions will be no more assumed to be used in the statement where they are used, or at least in the same block. https://github.com/tensorflow/tensorflow/issues/56089\n"
          ]
        },
        {
          "output_type": "stream",
          "name": "stdout",
          "text": [
            "Downloading data from https://i.imgur.com/hFqqp3p.jpg\n",
            "7870/7870 [==============================] - 0s 0us/step\n",
            "Downloading data from https://i.imgur.com/uGkSrzg.jpg\n",
            "10306/10306 [==============================] - 0s 1us/step\n",
            "Downloading data from https://i.imgur.com/zTVXw0D.png\n",
            "172078/172078 [==============================] - 0s 2us/step\n",
            "Downloading data from https://i.imgur.com/XJxG3f0.png\n",
            "202377/202377 [==============================] - 0s 2us/step\n",
            "Downloading data from https://i.imgur.com/hlkuxBX.jpg\n",
            "11991/11991 [==============================] - 0s 0us/step\n",
            "Downloading data from https://i.imgur.com/kPH9XIh.jpg\n",
            "14897/14897 [==============================] - 0s 1us/step\n",
            "Downloading data from https://i.imgur.com/OR2oxyK.jpg\n",
            "8773/8773 [==============================] - 0s 0us/step\n",
            "Downloading data from https://i.imgur.com/mZswnIx.jpg\n",
            "6822/6822 [==============================] - 0s 0us/step\n",
            "Downloading data from https://i.imgur.com/TmlHZRY.png\n",
            "141537/141537 [==============================] - 0s 3us/step\n",
            "Downloading data from https://i.imgur.com/BmVIZlO.png\n",
            "201997/201997 [==============================] - 0s 2us/step\n",
            "Downloading data from https://huggingface.co/fchollet/stable-diffusion/resolve/main/kcv_encoder.h5\n",
            "492466864/492466864 [==============================] - 1s 0us/step\n",
            "Downloading data from https://huggingface.co/fchollet/stable-diffusion/resolve/main/kcv_diffusion_model.h5\n",
            "3439090152/3439090152 [==============================] - 11s 0us/step\n",
            "Downloading data from https://huggingface.co/fchollet/stable-diffusion/resolve/main/kcv_decoder.h5\n",
            "198180272/198180272 [==============================] - 1s 0us/step\n",
            "Downloading data from https://huggingface.co/fchollet/stable-diffusion/resolve/main/vae_encoder.h5\n",
            "136824240/136824240 [==============================] - 1s 0us/step\n"
          ]
        }
      ]
    },
    {
      "cell_type": "code",
      "source": [
        "### embeddings for cosine similarity\n",
        "sticker_embedding = []\n",
        "cosine_similarity = []\n",
        "cosine_similarity.append(txt.cosine_sim(txt.get_embedding(\"broccoli\"), txt.get_embedding(txt.placeholder_token)))"
      ],
      "metadata": {
        "id": "6u0L8TKvdd_7"
      },
      "execution_count": null,
      "outputs": []
    },
    {
      "cell_type": "code",
      "source": [
        "### EXECUTE THE FOLLOWING TWO BLOCKS ONLY IF YOU WANT TO CONTINUE TRAINING WITH SAVED WEIGTHS\n",
        "### choose where to load the weights from, either from your google drive or you load our pretrained weights\n",
        "### make sure to insert the exact name of your weight.npy\n",
        "drive.mount(\"/content/drive\")\n",
        "#path = '/content/drive/MyDrive/final10weights_four_emotions.npy'"
      ],
      "metadata": {
        "id": "3VHu7S2hlKCe",
        "colab": {
          "base_uri": "https://localhost:8080/"
        },
        "outputId": "c477d4a0-b794-49ba-ee3f-cb2e7c1291cb"
      },
      "execution_count": null,
      "outputs": [
        {
          "output_type": "stream",
          "name": "stdout",
          "text": [
            "Mounted at /content/drive\n"
          ]
        }
      ]
    },
    {
      "cell_type": "code",
      "source": [
        "###load the array of the weights of the text encoder from the training\n",
        "text_encoder_weights = np.load(path, allow_pickle=True)\n",
        "\n",
        "### Set the weights of the text encoder\n",
        "txt.stable_diffusion.text_encoder.set_weights(text_encoder_weights)"
      ],
      "metadata": {
        "id": "sCjBIXL7lPfx"
      },
      "execution_count": null,
      "outputs": []
    },
    {
      "cell_type": "code",
      "source": [
        "### how long to train for\n",
        "epochs = 30\n",
        "epoch_num = list(range(epochs+1))\n",
        "txt.training(epoch=epochs, model=txt.stable_diffusion, data=txt.train_ds, sticker_embedding=sticker_embedding, cosine_similarity=cosine_similarity)"
      ],
      "metadata": {
        "id": "LD07AvQddezX",
        "outputId": "92432020-ce15-4e69-ce4e-405491144961",
        "colab": {
          "base_uri": "https://localhost:8080/"
        }
      },
      "execution_count": null,
      "outputs": [
        {
          "output_type": "stream",
          "name": "stderr",
          "text": [
            "Epoch 1/30: 100%|██████████| 530/530 [02:46<00:00,  3.18it/s]\n",
            "Epoch 2/30: 100%|██████████| 530/530 [01:44<00:00,  5.06it/s]\n",
            "Epoch 3/30: 100%|██████████| 530/530 [01:44<00:00,  5.07it/s]\n",
            "Epoch 4/30: 100%|██████████| 530/530 [01:44<00:00,  5.08it/s]\n",
            "Epoch 5/30: 100%|██████████| 530/530 [01:44<00:00,  5.08it/s]\n",
            "Epoch 6/30: 100%|██████████| 530/530 [01:44<00:00,  5.08it/s]\n",
            "Epoch 7/30: 100%|██████████| 530/530 [01:44<00:00,  5.08it/s]\n",
            "Epoch 8/30: 100%|██████████| 530/530 [01:44<00:00,  5.08it/s]\n",
            "Epoch 9/30: 100%|██████████| 530/530 [01:44<00:00,  5.07it/s]\n",
            "Epoch 10/30: 100%|██████████| 530/530 [01:44<00:00,  5.08it/s]\n",
            "Epoch 11/30: 100%|██████████| 530/530 [01:44<00:00,  5.08it/s]\n",
            "Epoch 12/30: 100%|██████████| 530/530 [01:44<00:00,  5.08it/s]\n",
            "Epoch 13/30: 100%|██████████| 530/530 [01:44<00:00,  5.08it/s]\n",
            "Epoch 14/30: 100%|██████████| 530/530 [01:44<00:00,  5.07it/s]\n",
            "Epoch 15/30: 100%|██████████| 530/530 [01:44<00:00,  5.07it/s]\n",
            "Epoch 16/30: 100%|██████████| 530/530 [01:44<00:00,  5.08it/s]\n",
            "Epoch 17/30: 100%|██████████| 530/530 [01:44<00:00,  5.08it/s]\n",
            "Epoch 18/30: 100%|██████████| 530/530 [01:44<00:00,  5.08it/s]\n",
            "Epoch 19/30: 100%|██████████| 530/530 [01:44<00:00,  5.08it/s]\n",
            "Epoch 20/30: 100%|██████████| 530/530 [01:44<00:00,  5.08it/s]\n",
            "Epoch 21/30: 100%|██████████| 530/530 [01:44<00:00,  5.08it/s]\n",
            "Epoch 22/30: 100%|██████████| 530/530 [01:44<00:00,  5.08it/s]\n",
            "Epoch 23/30: 100%|██████████| 530/530 [01:44<00:00,  5.08it/s]\n",
            "Epoch 24/30: 100%|██████████| 530/530 [01:44<00:00,  5.08it/s]\n",
            "Epoch 25/30: 100%|██████████| 530/530 [01:44<00:00,  5.08it/s]\n",
            "Epoch 26/30: 100%|██████████| 530/530 [01:44<00:00,  5.07it/s]\n",
            "Epoch 27/30: 100%|██████████| 530/530 [01:44<00:00,  5.08it/s]\n",
            "Epoch 28/30: 100%|██████████| 530/530 [01:44<00:00,  5.08it/s]\n",
            "Epoch 29/30: 100%|██████████| 530/530 [01:44<00:00,  5.08it/s]\n",
            "Epoch 30/30: 100%|██████████| 530/530 [01:44<00:00,  5.07it/s]\n"
          ]
        }
      ]
    },
    {
      "cell_type": "code",
      "source": [
        "### where to store your newly generated weights\n",
        "drive.mount(\"/content/drive\")\n",
        "path = '/content/drive/MyDrive/final30weights_four_emotionsLR4.npy'"
      ],
      "metadata": {
        "colab": {
          "base_uri": "https://localhost:8080/"
        },
        "id": "o4OtGsg46sfZ",
        "outputId": "684e2a4c-ca4d-4b71-827f-737379d84991"
      },
      "execution_count": null,
      "outputs": [
        {
          "output_type": "stream",
          "name": "stdout",
          "text": [
            "Drive already mounted at /content/drive; to attempt to forcibly remount, call drive.mount(\"/content/drive\", force_remount=True).\n"
          ]
        }
      ]
    },
    {
      "cell_type": "code",
      "source": [
        "###get the weights of the text encoder and save the to Google Drive\n",
        "text_encoder_weights = np.array(txt.stable_diffusion.text_encoder.get_weights())\n",
        "\n",
        "### Save the weights array to a file on your Google Drive\n",
        "np.save(path, text_encoder_weights)"
      ],
      "metadata": {
        "id": "1wBN4HdceChs",
        "colab": {
          "base_uri": "https://localhost:8080/"
        },
        "outputId": "31800843-cdd4-4bb2-b68c-0aa9fea7040f"
      },
      "execution_count": null,
      "outputs": [
        {
          "output_type": "stream",
          "name": "stderr",
          "text": [
            "<ipython-input-7-0443ae8bd6c9>:2: VisibleDeprecationWarning: Creating an ndarray from ragged nested sequences (which is a list-or-tuple of lists-or-tuples-or ndarrays with different lengths or shapes) is deprecated. If you meant to do this, you must specify 'dtype=object' when creating the ndarray.\n",
            "  text_encoder_weights = np.array(txt.stable_diffusion.text_encoder.get_weights())\n"
          ]
        }
      ]
    },
    {
      "cell_type": "code",
      "source": [
        "\n",
        "\n",
        "import os\n",
        "from google.colab import drive\n",
        "import numpy as np\n",
        "import matplotlib.pyplot as plt\n",
        "import matplotlib as mpl\n",
        "mpl.use('ps')"
      ],
      "metadata": {
        "id": "rSK4dIHGO0yA"
      },
      "execution_count": null,
      "outputs": []
    },
    {
      "cell_type": "code",
      "source": [
        "plt.figure()  # Create a new figure\n",
        "plt.plot(epoch_num, cosine_similarity, 'darkblue')\n",
        "plt.xlabel('Epoch')\n",
        "plt.ylabel('Cosine Similarity')\n",
        "plt.title('Cosine Similarity')\n",
        "plt.show()\n",
        "\n"
      ],
      "metadata": {
        "id": "xK-Sa-nsOYJO"
      },
      "execution_count": null,
      "outputs": []
    },
    {
      "cell_type": "code",
      "source": [
        "# Save the plot as an eps file\n",
        "txt.cosine_plot(epoch_num, cosine_similarity)\n",
        "plt.savefig('/content/drive/MyDrive/CosineSimilarity_four_emotions30epochsLR4.eps', format='eps')\n"
      ],
      "metadata": {
        "id": "SB8r7gANDmUR"
      },
      "execution_count": null,
      "outputs": []
    },
    {
      "cell_type": "code",
      "source": [
        "\n",
        "# Save the plot as a pdf file\n",
        "plt.savefig('/content/drive/MyDrive/CosineSimilarity_four_emotions30epochsLR4.pdf', format='pdf')"
      ],
      "metadata": {
        "id": "hSoU2yCawHg8"
      },
      "execution_count": null,
      "outputs": []
    }
  ]
}