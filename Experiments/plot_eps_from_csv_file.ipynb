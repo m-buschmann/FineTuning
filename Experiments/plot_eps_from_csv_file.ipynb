{
  "nbformat": 4,
  "nbformat_minor": 0,
  "metadata": {
    "colab": {
      "provenance": [],
      "include_colab_link": true
    },
    "kernelspec": {
      "name": "python3",
      "display_name": "Python 3"
    },
    "language_info": {
      "name": "python"
    },
    "accelerator": "GPU",
    "gpuClass": "standard"
  },
  "cells": [
    {
      "cell_type": "markdown",
      "metadata": {
        "id": "view-in-github",
        "colab_type": "text"
      },
      "source": [
        "<a href=\"https://colab.research.google.com/github/tensorflow-project/FineTuning/blob/main/Experiments/plot_eps_from_csv_file.ipynb\" target=\"_parent\"><img src=\"https://colab.research.google.com/assets/colab-badge.svg\" alt=\"Open In Colab\"/></a>"
      ]
    },
    {
      "cell_type": "code",
      "execution_count": null,
      "metadata": {
        "colab": {
          "base_uri": "https://localhost:8080/"
        },
        "id": "mhUZdFZCW464",
        "outputId": "f45e042f-2816-45f4-aaea-16a7e88a8a8a"
      },
      "outputs": [
        {
          "output_type": "stream",
          "name": "stdout",
          "text": [
            "Mounted at /content/drive\n"
          ]
        }
      ],
      "source": [
        "import os\n",
        "from google.colab import drive\n",
        "import numpy as np\n",
        "import urllib.request\n",
        "import matplotlib.pyplot as plt\n",
        "import matplotlib as mpl\n",
        "mpl.use('ps')\n",
        "\n",
        "drive.mount(\"/content/drive\")\n",
        "\n",
        "### for downloading files from dropbox:\n",
        "### if you want to use any other service than dropbox, change the code underneath\n",
        "\n",
        "\n",
        "path1 = 'https://www.dropbox.com/s/goz4z8h53m4dxer/epoch_accuracy20230321-104734_train.csv?dl=1' \n",
        "path2 = 'https://www.dropbox.com/s/plcqy6d0u6zgn92/besteRUN1_20230325-215745_val_accuracy.csv?dl=1'\n",
        "path3 = 'https://www.dropbox.com/s/u4gzg6zd42cku29/besteRUN1_20230325-215745_train_loss.csv?dl=1' \n",
        "path4 = 'https://www.dropbox.com/s/penh02plaxdkgch/besteRUN1_20230325-215745_val_loss.csv?dl=1' "
      ]
    },
    {
      "cell_type": "code",
      "source": [
        "def plot(x_values, y_values, color, xlabel, ylabel, title):\n",
        "    \"\"\"Plot a line graph using Matplotlib.\n",
        "\n",
        "    Args:\n",
        "    - x_values (array-like): x-coordinates of data points to be plotted\n",
        "    - y_values (array-like): y-coordinates of data points to be plotted\n",
        "    - color (str): color of the line\n",
        "    - xlabel (str): label of the x-axis\n",
        "    - ylabel (str): label of the y-axis\n",
        "    - title (str): title of the plot\n",
        "\n",
        "    Returns:\n",
        "    - None\n",
        "\n",
        "    Raises:\n",
        "    - None\n",
        "    \"\"\"\n",
        "    plt.figure()  # Create a new figure\n",
        "    plt.plot(x_values, y_values, color)\n",
        "    plt.xlabel(xlabel)\n",
        "    plt.ylabel(ylabel)\n",
        "    plt.title(title)\n",
        "    plt.show()"
      ],
      "metadata": {
        "id": "fbF9Hwj53JHx"
      },
      "execution_count": null,
      "outputs": []
    },
    {
      "cell_type": "code",
      "source": [
        "# Load the CSV file using NumPy\n",
        "data1 = np.loadtxt(path1, delimiter=',')\n",
        "\n",
        "# Extract x and y values from the data\n",
        "x_values = data1[:, 1]\n",
        "y_values = data1[:, 2]\n",
        "\n",
        "plot(x_values = x_values, y_values = y_values, color='darkblue', xlabel = 'Epochs', ylabel = 'Accuracy', title = 'Accuracy During Training')\n",
        "\n",
        "# Save the plot as an EPS and pdf file\n",
        "plt.savefig('/content/drive/MyDrive/EPS/Accuracy During Training.eps', format='eps')\n",
        "plt.savefig('/content/drive/MyDrive/EPS/Accuracy During Training.pdf', format='pdf')"
      ],
      "metadata": {
        "id": "5bUUqT2hlx62"
      },
      "execution_count": null,
      "outputs": []
    },
    {
      "cell_type": "code",
      "source": [
        "# Load the CSV file using NumPy\n",
        "data2 = np.loadtxt(path2, delimiter=',')\n",
        "\n",
        "# Extract x and y values from the data\n",
        "x_values = data2[:, 1]\n",
        "y_values = data2[:, 2]\n",
        "\n",
        "# Plot data using Matplotlib\n",
        "plot(x_values = x_values, y_values = y_values, color='darkblue', xlabel = 'Epochs', ylabel = 'Accuracy', title = 'Accuracy During Validation')\n",
        "\n",
        "# Save the plot as an EPS and pdf file\n",
        "plt.savefig('/content/drive/MyDrive/EPS/Accuracy During Validation.eps', format='eps')\n",
        "plt.savefig('/content/drive/MyDrive/EPS/Accuracy During Validation.pdf', format='pdf')"
      ],
      "metadata": {
        "id": "ugbsOz90oJE7"
      },
      "execution_count": null,
      "outputs": []
    },
    {
      "cell_type": "code",
      "source": [
        "# Load the CSV file using NumPy\n",
        "data3 = np.loadtxt(path3, delimiter=',')\n",
        "\n",
        "# Extract x and y values from the data\n",
        "x_values = data3[:, 1]\n",
        "y_values = data3[:, 2]\n",
        "\n",
        "# Plot data using Matplotlib\n",
        "plot(x_values = x_values, y_values = y_values, color='darkblue', xlabel = 'Epochs', ylabel = 'Loss', title = 'Loss During Training')\n",
        "\n",
        "# Save the plot as an EPS and pdf file\n",
        "plt.savefig('/content/drive/MyDrive/EPS/Loss During Training.eps', format='eps')\n",
        "plt.savefig('/content/drive/MyDrive/EPS/Loss During Training.pdf', format='pdf')"
      ],
      "metadata": {
        "id": "zI9IVChIpcpN"
      },
      "execution_count": null,
      "outputs": []
    },
    {
      "cell_type": "code",
      "source": [
        "# Load the CSV file using NumPy\n",
        "data4 = np.loadtxt(path4, delimiter=',')\n",
        "\n",
        "# Extract x and y values from the data\n",
        "x_values = data4[:, 1]\n",
        "y_values = data4[:, 2]\n",
        "\n",
        "plot(x_values = x_values, y_values = y_values, color='darkblue', xlabel = 'Epochs', ylabel = 'Loss', title = 'Loss During Validation')\n",
        "\n",
        "# Save the plot as an EPS and pdf file\n",
        "plt.savefig('/content/drive/MyDrive/EPS/Loss During Validation.eps', format='eps')\n",
        "plt.savefig('/content/drive/MyDrive/EPS/Loss During Validation.pdf', format='pdf')"
      ],
      "metadata": {
        "id": "LtkaA0Sap0uv"
      },
      "execution_count": null,
      "outputs": []
    }
  ]
}