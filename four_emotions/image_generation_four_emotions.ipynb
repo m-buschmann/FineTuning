{
  "nbformat": 4,
  "nbformat_minor": 0,
  "metadata": {
    "colab": {
      "provenance": [],
      "include_colab_link": true
    },
    "kernelspec": {
      "name": "python3",
      "display_name": "Python 3"
    },
    "language_info": {
      "name": "python"
    },
    "accelerator": "GPU",
    "gpuClass": "standard"
  },
  "cells": [
    {
      "cell_type": "markdown",
      "metadata": {
        "id": "view-in-github",
        "colab_type": "text"
      },
      "source": [
        "<a href=\"https://colab.research.google.com/github/tensorflow-project/FineTuning/blob/main/four_emotions/image_generation_four_emotions.ipynb\" target=\"_parent\"><img src=\"https://colab.research.google.com/assets/colab-badge.svg\" alt=\"Open In Colab\"/></a>"
      ]
    },
    {
      "cell_type": "code",
      "source": [
        "!git clone https://github.com/tensorflow-project/FineTuning"
      ],
      "metadata": {
        "colab": {
          "base_uri": "https://localhost:8080/"
        },
        "id": "NHvXPnQkeyzf",
        "outputId": "38f32151-a888-4d3b-ad16-0dabfc99f57a"
      },
      "execution_count": 1,
      "outputs": [
        {
          "output_type": "stream",
          "name": "stdout",
          "text": [
            "Cloning into 'FineTuning'...\n",
            "remote: Enumerating objects: 1003, done.\u001b[K\n",
            "remote: Counting objects: 100% (274/274), done.\u001b[K\n",
            "remote: Compressing objects: 100% (232/232), done.\u001b[K\n",
            "remote: Total 1003 (delta 226), reused 41 (delta 41), pack-reused 729\u001b[K\n",
            "Receiving objects: 100% (1003/1003), 140.84 MiB | 9.61 MiB/s, done.\n",
            "Resolving deltas: 100% (732/732), done.\n"
          ]
        }
      ]
    },
    {
      "cell_type": "code",
      "source": [
        "import sys\n",
        "import os\n",
        "import numpy as np\n",
        "from google.colab import drive\n",
        "import urllib.request\n",
        "\n",
        "py_file_location = \"/content/FineTuning/four_emotions\"\n",
        "sys.path.append(os.path.abspath(py_file_location))\n",
        "py_file_location = \"/content/FineTuning/models\"\n",
        "sys.path.append(os.path.abspath(py_file_location))\n",
        "\n",
        "import textual_inversion_four_emotions as txt"
      ],
      "metadata": {
        "id": "SD_KkNtNSth_",
        "colab": {
          "base_uri": "https://localhost:8080/"
        },
        "outputId": "f6cd63e9-da3e-4fa9-be76-b8b567e11cd0"
      },
      "execution_count": 2,
      "outputs": [
        {
          "output_type": "stream",
          "name": "stdout",
          "text": [
            "  Installing build dependencies ... \u001b[?25l\u001b[?25hdone\n",
            "  Getting requirements to build wheel ... \u001b[?25l\u001b[?25hdone\n",
            "  Preparing metadata (pyproject.toml) ... \u001b[?25l\u001b[?25hdone\n",
            "  Building wheel for keras-cv (pyproject.toml) ... \u001b[?25l\u001b[?25hdone\n",
            "Looking in indexes: https://pypi.org/simple, https://us-python.pkg.dev/colab-wheels/public/simple/\n",
            "Requirement already satisfied: pyyaml in /usr/local/lib/python3.9/dist-packages (6.0)\n",
            "Requirement already satisfied: h5py in /usr/local/lib/python3.9/dist-packages (3.8.0)\n",
            "Requirement already satisfied: numpy>=1.14.5 in /usr/local/lib/python3.9/dist-packages (from h5py) (1.22.4)\n",
            "By using this model checkpoint, you acknowledge that its usage is subject to the terms of the CreativeML Open RAIL-M license at https://raw.githubusercontent.com/CompVis/stable-diffusion/main/LICENSE\n",
            "Downloading data from https://github.com/openai/CLIP/blob/main/clip/bpe_simple_vocab_16e6.txt.gz?raw=true\n",
            "1356917/1356917 [==============================] - 0s 0us/step\n",
            "Downloading data from https://i.imgur.com/9zAwPyt.jpg\n",
            "8784/8784 [==============================] - 0s 0us/step\n",
            "Downloading data from https://i.imgur.com/qCNFRl4.jpg\n",
            "14548/14548 [==============================] - 0s 0us/step\n",
            "Downloading data from https://i.imgur.com/YLnylVr.png\n",
            "202761/202761 [==============================] - 0s 0us/step\n"
          ]
        },
        {
          "output_type": "stream",
          "name": "stderr",
          "text": [
            "WARNING:tensorflow:From /usr/local/lib/python3.9/dist-packages/tensorflow/python/autograph/pyct/static_analysis/liveness.py:83: Analyzer.lamba_check (from tensorflow.python.autograph.pyct.static_analysis.liveness) is deprecated and will be removed after 2023-09-23.\n",
            "Instructions for updating:\n",
            "Lambda fuctions will be no more assumed to be used in the statement where they are used, or at least in the same block. https://github.com/tensorflow/tensorflow/issues/56089\n"
          ]
        },
        {
          "output_type": "stream",
          "name": "stdout",
          "text": [
            "Downloading data from https://i.imgur.com/hFqqp3p.jpg\n",
            "7870/7870 [==============================] - 0s 0us/step\n",
            "Downloading data from https://i.imgur.com/uGkSrzg.jpg\n",
            "10306/10306 [==============================] - 0s 0us/step\n",
            "Downloading data from https://i.imgur.com/zTVXw0D.png\n",
            "172078/172078 [==============================] - 0s 0us/step\n",
            "Downloading data from https://i.imgur.com/XJxG3f0.png\n",
            "202377/202377 [==============================] - 0s 0us/step\n",
            "Downloading data from https://i.imgur.com/hlkuxBX.jpg\n",
            "11991/11991 [==============================] - 0s 0us/step\n",
            "Downloading data from https://i.imgur.com/kPH9XIh.jpg\n",
            "14897/14897 [==============================] - 0s 0us/step\n",
            "Downloading data from https://i.imgur.com/OR2oxyK.jpg\n",
            "8773/8773 [==============================] - 0s 0us/step\n",
            "Downloading data from https://i.imgur.com/mZswnIx.jpg\n",
            "6822/6822 [==============================] - 0s 0us/step\n",
            "Downloading data from https://i.imgur.com/TmlHZRY.png\n",
            "141537/141537 [==============================] - 0s 0us/step\n",
            "Downloading data from https://i.imgur.com/BmVIZlO.png\n",
            "201997/201997 [==============================] - 0s 0us/step\n",
            "Downloading data from https://huggingface.co/fchollet/stable-diffusion/resolve/main/kcv_encoder.h5\n",
            "492466864/492466864 [==============================] - 3s 0us/step\n",
            "Downloading data from https://huggingface.co/fchollet/stable-diffusion/resolve/main/kcv_diffusion_model.h5\n",
            "3439090152/3439090152 [==============================] - 27s 0us/step\n",
            "Downloading data from https://huggingface.co/fchollet/stable-diffusion/resolve/main/kcv_decoder.h5\n",
            "198180272/198180272 [==============================] - 1s 0us/step\n",
            "Downloading data from https://huggingface.co/fchollet/stable-diffusion/resolve/main/vae_encoder.h5\n",
            "136824240/136824240 [==============================] - 1s 0us/step\n"
          ]
        }
      ]
    },
    {
      "cell_type": "code",
      "source": [
        "### load stable diffusion class and placeholder token from textual_inversion.py\n",
        "stable_diffusion = txt.stable_diffusion\n",
        "placeholder_token = txt.placeholder_token"
      ],
      "metadata": {
        "id": "txmTOwxFoH5O"
      },
      "execution_count": 3,
      "outputs": []
    },
    {
      "cell_type": "code",
      "source": [
        "### choose where to load the weights from, either from your google drive or you load our pretrained weights\n",
        "### make sure to insert the exact name of your weight.npy\n",
        "\n",
        "\n",
        "### for downloading weights from dropbox:\n",
        "### if you want to use any other service than dropbox, change the code underneath\n",
        "### Replace  and  with the ID and name of your file\n",
        "\n",
        "### The file id is the string of characters between \"s/\" and the next slash \"/\"\n",
        "### example: https://www.dropbox.com/s/28lsilu4rltrioj/LR5weightsAllEmotions30epochs.npy?dl=0\n",
        "file_id = '28lsilu4rltrioj'\n",
        "\n",
        "### name óf file\n",
        "file_name = 'LR5weightsAllEmotions30epochs.npy'\n",
        "\n",
        "url = f'https://www.dropbox.com/s/{file_id}/{file_name}?dl=1'\n",
        "filename = f'{file_name}.npy'\n",
        "     \n"
      ],
      "metadata": {
        "id": "ZnDt4BHJd40N"
      },
      "execution_count": 4,
      "outputs": []
    },
    {
      "cell_type": "code",
      "source": [
        "### Download the file from the URL and save it locally\n",
        "urllib.request.urlretrieve(url, filename=filename)\n",
        "\n",
        "### Load the saved numpy file using numpy.load()\n",
        "weights = np.load(filename, allow_pickle=True)\n",
        "\n",
        "### Set the weights of the text encoder\n",
        "stable_diffusion.text_encoder.set_weights(weights)\n",
        "     \n"
      ],
      "metadata": {
        "id": "bsNpooPgeLHt"
      },
      "execution_count": 5,
      "outputs": []
    },
    {
      "cell_type": "code",
      "source": [
        "### insert your prompt here\n",
        "prompt = f\"an angry {placeholder_token}.\"\n",
        "### choose how many images should be generated\n",
        "number = 3"
      ],
      "metadata": {
        "id": "Dow5AkAtkaR-"
      },
      "execution_count": 6,
      "outputs": []
    },
    {
      "cell_type": "code",
      "source": [
        "### EITHER:\n",
        "### generate images and save them directly in your Google Drive\n",
        "### where to store your images, you may have to create the folder \"Images\" first\n",
        "drive_folder = '/content/drive/MyDrive/Images/'\n",
        "\n",
        "txt.image_generation(prompt, drive_folder, number)"
      ],
      "metadata": {
        "id": "b6_FS5jfeROz",
        "colab": {
          "base_uri": "https://localhost:8080/"
        },
        "outputId": "f5103fa0-59c1-40fa-ed4a-9d5259dbbec8"
      },
      "execution_count": null,
      "outputs": [
        {
          "output_type": "stream",
          "name": "stdout",
          "text": [
            "25/25 [==============================] - 45s 1s/step\n",
            "25/25 [==============================] - 28s 1s/step\n"
          ]
        }
      ]
    },
    {
      "cell_type": "code",
      "source": [
        "### OR:\n",
        "### generate images and plot them here\n",
        "### change seed if you want different images with same weights\n",
        "generated = stable_diffusion.text_to_image(\n",
        "    prompt , batch_size=number,  num_steps=30, seed=2332\n",
        ")\n",
        "txt.plot_images(generated)"
      ],
      "metadata": {
        "id": "os7FbglCqUDg"
      },
      "execution_count": null,
      "outputs": []
    }
  ]
}