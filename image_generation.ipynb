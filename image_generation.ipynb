{
  "nbformat": 4,
  "nbformat_minor": 0,
  "metadata": {
    "colab": {
      "provenance": [],
      "include_colab_link": true
    },
    "kernelspec": {
      "name": "python3",
      "display_name": "Python 3"
    },
    "language_info": {
      "name": "python"
    },
    "accelerator": "GPU",
    "gpuClass": "standard"
  },
  "cells": [
    {
      "cell_type": "markdown",
      "metadata": {
        "id": "view-in-github",
        "colab_type": "text"
      },
      "source": [
        "<a href=\"https://colab.research.google.com/github/tensorflow-project/FineTuning/blob/main/image_generation.ipynb\" target=\"_parent\"><img src=\"https://colab.research.google.com/assets/colab-badge.svg\" alt=\"Open In Colab\"/></a>"
      ]
    },
    {
      "cell_type": "code",
      "source": [
        "!git clone https://github.com/tensorflow-project/FineTuning\n",
        "#%cd FineTuning"
      ],
      "metadata": {
        "colab": {
          "base_uri": "https://localhost:8080/"
        },
        "id": "NHvXPnQkeyzf",
        "outputId": "5532d1d8-d53d-4202-e985-3038c5151e41"
      },
      "execution_count": 1,
      "outputs": [
        {
          "output_type": "stream",
          "name": "stdout",
          "text": [
            "fatal: destination path 'FineTuning' already exists and is not an empty directory.\n"
          ]
        }
      ]
    },
    {
      "cell_type": "code",
      "source": [
        "import sys\n",
        "import os\n",
        "\n",
        "py_file_location = \"/content/FineTuning\"\n",
        "sys.path.append(os.path.abspath(py_file_location))\n",
        "py_file_location = \"/content/FineTuning/models\"\n",
        "sys.path.append(os.path.abspath(py_file_location))"
      ],
      "metadata": {
        "id": "SD_KkNtNSth_"
      },
      "execution_count": 2,
      "outputs": []
    },
    {
      "cell_type": "code",
      "source": [
        "import numpy as np\n",
        "#from numpy import dot\n",
        "#from numpy.linalg import norm\n",
        "from google.colab import drive\n",
        "from PIL import Image\n",
        "import textual_inversion as txt\n",
        "#from textual_inversion import train_ds"
      ],
      "metadata": {
        "id": "mZn6b3kEe4GP"
      },
      "execution_count": 6,
      "outputs": []
    },
    {
      "cell_type": "code",
      "source": [
        "drive.mount(\"/content/drive\")\n",
        "path = '/content/drive/MyDrive/2_weights10.npy'"
      ],
      "metadata": {
        "id": "ZnDt4BHJd40N",
        "colab": {
          "base_uri": "https://localhost:8080/"
        },
        "outputId": "61d78f77-374c-4505-ffd4-aaffa8e47f9d"
      },
      "execution_count": 8,
      "outputs": [
        {
          "output_type": "stream",
          "name": "stdout",
          "text": [
            "Drive already mounted at /content/drive; to attempt to forcibly remount, call drive.mount(\"/content/drive\", force_remount=True).\n"
          ]
        }
      ]
    },
    {
      "cell_type": "code",
      "source": [
        "stable_diffusion = txt.stable_diffusion"
      ],
      "metadata": {
        "id": "2YXv-STofxCb"
      },
      "execution_count": 10,
      "outputs": []
    },
    {
      "cell_type": "code",
      "source": [
        "###load the array of the weights of the text encoder from the last training from google drive\n",
        "text_encoder_weights = np.load(path, allow_pickle=True)\n",
        "\n",
        "### Set the weights of the text encoder\n",
        "stable_diffusion.text_encoder.set_weights(text_encoder_weights)"
      ],
      "metadata": {
        "id": "bsNpooPgeLHt"
      },
      "execution_count": 11,
      "outputs": []
    },
    {
      "cell_type": "code",
      "source": [
        "placeholder_token = txt.placeholder_token"
      ],
      "metadata": {
        "id": "UxM7OibkgddQ"
      },
      "execution_count": 13,
      "outputs": []
    },
    {
      "cell_type": "code",
      "source": [
        "import shutil\n",
        "drive_folder = '/content/drive/MyDrive/bildeeer/'\n",
        "\n",
        "### get the number of the last image generated, to ensure each picture gets a different name\n",
        "i_file = os.path.join(drive_folder, 'i.txt')\n",
        "if os.path.isfile(i_file):\n",
        "    with open(i_file, 'r') as f:\n",
        "        i = int(f.read())\n",
        "else:\n",
        "    i = 0\n",
        "\n",
        "for j in range(3):\n",
        "    generated = stable_diffusion.text_to_image(\n",
        "    f\" a angry {placeholder_token}.\", batch_size=1,  num_steps=25 )\n",
        "    broc = generated[0]\n",
        "\n",
        "    ### convert the array generated from our stable diffusion model into a picture\n",
        "    broc = Image.fromarray(broc, mode='RGB')\n",
        "\n",
        "    broc.save(f'image_{i}.jpg')\n",
        "\n",
        "    ### save the picture to google drive\n",
        "    local_path = f'image_{i}.jpg'\n",
        "    drive_path = os.path.join(drive_folder, f'image_{i}.jpg')  # Use f-string to include variable in file name\n",
        "    shutil.copy(local_path, drive_path)\n",
        "\n",
        "    ### store the value of i in the file, to ensure no picture will have the same name\n",
        "    i += 1\n",
        "    with open(i_file, 'w') as f:\n",
        "        f.write(str(i))"
      ],
      "metadata": {
        "id": "b6_FS5jfeROz",
        "colab": {
          "base_uri": "https://localhost:8080/"
        },
        "outputId": "4ecd088e-ac6c-4ced-a67f-f71a03f96251"
      },
      "execution_count": 14,
      "outputs": [
        {
          "output_type": "stream",
          "name": "stdout",
          "text": [
            "25/25 [==============================] - 44s 1s/step\n",
            "25/25 [==============================] - 27s 1s/step\n",
            "25/25 [==============================] - 27s 1s/step\n"
          ]
        }
      ]
    }
  ]
}