{
  "nbformat": 4,
  "nbformat_minor": 0,
  "metadata": {
    "colab": {
      "provenance": [],
      "include_colab_link": true
    },
    "kernelspec": {
      "name": "python3",
      "display_name": "Python 3"
    },
    "language_info": {
      "name": "python"
    },
    "accelerator": "GPU",
    "gpuClass": "standard"
  },
  "cells": [
    {
      "cell_type": "markdown",
      "metadata": {
        "id": "view-in-github",
        "colab_type": "text"
      },
      "source": [
        "<a href=\"https://colab.research.google.com/github/tensorflow-project/FineTuning/blob/main/image_generation.ipynb\" target=\"_parent\"><img src=\"https://colab.research.google.com/assets/colab-badge.svg\" alt=\"Open In Colab\"/></a>"
      ]
    },
    {
      "cell_type": "code",
      "source": [
        "!git clone https://github.com/tensorflow-project/FineTuning"
      ],
      "metadata": {
        "colab": {
          "base_uri": "https://localhost:8080/"
        },
        "id": "NHvXPnQkeyzf",
        "outputId": "6d5f7275-9c73-4094-a14c-5857fe347c70"
      },
      "execution_count": 19,
      "outputs": [
        {
          "output_type": "stream",
          "name": "stdout",
          "text": [
            "fatal: destination path 'FineTuning' already exists and is not an empty directory.\n"
          ]
        }
      ]
    },
    {
      "cell_type": "code",
      "source": [
        "import sys\n",
        "import os\n",
        "import shutil\n",
        "import numpy as np\n",
        "from google.colab import drive\n",
        "from PIL import Image\n",
        "import textual_inversion as txt\n",
        "import shutil\n",
        "\n",
        "py_file_location = \"/content/FineTuning\"\n",
        "sys.path.append(os.path.abspath(py_file_location))\n",
        "py_file_location = \"/content/FineTuning/models\"\n",
        "sys.path.append(os.path.abspath(py_file_location))"
      ],
      "metadata": {
        "id": "SD_KkNtNSth_"
      },
      "execution_count": 20,
      "outputs": []
    },
    {
      "cell_type": "code",
      "source": [
        "stable_diffusion = txt.stable_diffusion\n",
        "placeholder_token = txt.placeholder_token"
      ],
      "metadata": {
        "id": "txmTOwxFoH5O"
      },
      "execution_count": 21,
      "outputs": []
    },
    {
      "cell_type": "code",
      "source": [
        "### choose where to load the weights from, either from your google drive or you load our pretrained weights\n",
        "### make sure to insert the exact name of your weight.npy\n",
        "drive.mount(\"/content/drive\")\n",
        "path = '/content/drive/MyDrive/2_weights10.npy'"
      ],
      "metadata": {
        "id": "ZnDt4BHJd40N",
        "colab": {
          "base_uri": "https://localhost:8080/"
        },
        "outputId": "89035b5f-9dc8-4cbf-9709-6436ef40768c"
      },
      "execution_count": 22,
      "outputs": [
        {
          "output_type": "stream",
          "name": "stdout",
          "text": [
            "Drive already mounted at /content/drive; to attempt to forcibly remount, call drive.mount(\"/content/drive\", force_remount=True).\n"
          ]
        }
      ]
    },
    {
      "cell_type": "code",
      "source": [
        "###load the array of the weights of the text encoder from the training\n",
        "text_encoder_weights = np.load(path, allow_pickle=True)\n",
        "\n",
        "### Set the weights of the text encoder\n",
        "stable_diffusion.text_encoder.set_weights(text_encoder_weights)"
      ],
      "metadata": {
        "id": "bsNpooPgeLHt"
      },
      "execution_count": 23,
      "outputs": []
    },
    {
      "cell_type": "code",
      "source": [
        "### insert your prompt here\n",
        "prompt = f\"a angry {placeholder_token}.\""
      ],
      "metadata": {
        "id": "Dow5AkAtkaR-"
      },
      "execution_count": 24,
      "outputs": []
    },
    {
      "cell_type": "code",
      "source": [
        "### generate images and save them directly in your Google Drive\n",
        "\n",
        "\n",
        "### where to store your images, you may have to create the folder \"Images\" first\n",
        "drive_folder = '/content/drive/MyDrive/bildeeer/'\n",
        "\n",
        "### get the number of the last image generated, to ensure each picture gets a different name\n",
        "i_file = os.path.join(drive_folder, 'i.txt')\n",
        "if os.path.isfile(i_file):\n",
        "    with open(i_file, 'r') as f:\n",
        "        i = int(f.read())\n",
        "else:\n",
        "    i = 0\n",
        "\n",
        "### choose number of images to be generated in range\n",
        "for j in range(3):\n",
        "    \"\"\"This function generates an image using stable diffusion model by passing a string with a placeholder token. \n",
        "    The generated image is saved as a JPG file and then copied to a Google Drive folder. A counter is used to ensure unique file names. \n",
        "\n",
        "    Args:\n",
        "    - placeholder_token (str): The token to be used as a placeholder in the input string\n",
        "    - drive_folder (str): The path to the Google Drive folder where the image will be saved\n",
        "    - i_file (str): The path to the file that stores the counter value\n",
        "        \n",
        "    Returns:\n",
        "    - None\n",
        "    \"\"\"\n",
        "    \n",
        "    generated = stable_diffusion.text_to_image(\n",
        "    prompt, batch_size=1,  num_steps=25 )\n",
        "    broc = generated[0]\n",
        "\n",
        "    ### convert the array generated from our stable diffusion model into a picture\n",
        "    broc = Image.fromarray(broc, mode='RGB')\n",
        "\n",
        "    broc.save(f'image_{i}.jpg')\n",
        "\n",
        "    ### save the picture to Google Drive\n",
        "    local_path = f'image_{i}.jpg'\n",
        "    drive_path = os.path.join(drive_folder, f'image_{i}.jpg')  # Use f-string to include variable in file name\n",
        "    shutil.copy(local_path, drive_path)\n",
        "\n",
        "    ### store the value of i in the file, to ensure no picture will have the same name\n",
        "    i += 1\n",
        "    with open(i_file, 'w') as f:\n",
        "        f.write(str(i))"
      ],
      "metadata": {
        "id": "b6_FS5jfeROz",
        "colab": {
          "base_uri": "https://localhost:8080/"
        },
        "outputId": "ded20fe5-98d3-4c04-f4f3-0efa6b21e5ab"
      },
      "execution_count": 26,
      "outputs": [
        {
          "output_type": "stream",
          "name": "stdout",
          "text": [
            "25/25 [==============================] - 28s 1s/step\n",
            "25/25 [==============================] - 28s 1s/step\n",
            "25/25 [==============================] - 27s 1s/step\n"
          ]
        }
      ]
    },
    {
      "cell_type": "code",
      "source": [
        "### generate images and plot them here\n",
        "### choose number of images to be generated by changing batch_size\n",
        "### change seed if you want different images with same weights\n",
        "generated = stable_diffusion.text_to_image(\n",
        "    prompt , batch_size=3,  num_steps=30, seed=2332\n",
        ")\n",
        "txt.plot_images(generated)"
      ],
      "metadata": {
        "colab": {
          "base_uri": "https://localhost:8080/"
        },
        "id": "os7FbglCqUDg",
        "outputId": "2dcd1a67-1baa-40d7-d707-161f419a64d5"
      },
      "execution_count": null,
      "outputs": [
        {
          "output_type": "stream",
          "name": "stdout",
          "text": [
            "\r 1/31 [..............................] - ETA: 1:17"
          ]
        }
      ]
    }
  ]
}