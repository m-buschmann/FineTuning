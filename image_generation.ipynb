
!git clone https://github.com/tensorflow-project/FineTuning

import sys
import os
import numpy as np
from google.colab import drive
from PIL import Image
import textual_inversion as txt

py_file_location = "/content/FineTuning"
sys.path.append(os.path.abspath(py_file_location))
py_file_location = "/content/FineTuning/models"
sys.path.append(os.path.abspath(py_file_location))

drive.mount("/content/drive")
path = '/content/drive/MyDrive/2_weights10.npy'

stable_diffusion = txt.stable_diffusion
placeholder_token = txt.placeholder_token

###load the array of the weights of the text encoder from the last training from google drive
text_encoder_weights = np.load(path, allow_pickle=True)

### Set the weights of the text encoder
stable_diffusion.text_encoder.set_weights(text_encoder_weights)
