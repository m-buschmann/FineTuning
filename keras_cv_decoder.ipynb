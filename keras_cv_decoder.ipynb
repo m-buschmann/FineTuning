{
  "cells": [
    {
      "cell_type": "markdown",
      "metadata": {
        "colab_type": "text",
        "id": "view-in-github"
      },
      "source": [
        "<a href=\"https://colab.research.google.com/github/tensorflow-project/stable-diffusion/blob/main/keras_cv_decoder.ipynb\" target=\"_parent\"><img src=\"https://colab.research.google.com/assets/colab-badge.svg\" alt=\"Open In Colab\"/></a>"
      ]
    },
    {
      "cell_type": "code",
      "execution_count": null,
      "metadata": {
        "id": "-fNCYSKmGXIY"
      },
      "outputs": [],
      "source": [
        "# Copyright 2022 The KerasCV Authors\n",
        "#\n",
        "# Licensed under the Apache License, Version 2.0 (the \"License\");\n",
        "# you may not use this file except in compliance with the License.\n",
        "# You may obtain a copy of the License at\n",
        "#\n",
        "#     https://www.apache.org/licenses/LICENSE-2.0\n",
        "#\n",
        "# Unless required by applicable law or agreed to in writing, software\n",
        "# distributed under the License is distributed on an \"AS IS\" BASIS,\n",
        "# WITHOUT WARRANTIES OR CONDITIONS OF ANY KIND, either express or implied.\n",
        "# See the License for the specific language governing permissions and\n",
        "# limitations under the License.\n",
        "\n",
        "from tensorflow import keras\n",
        "\n",
        "from keras_cv.models.stable_diffusion.__internal__.layers.attention_block import (\n",
        "    AttentionBlock,\n",
        ")\n",
        "from keras_cv.models.stable_diffusion.__internal__.layers.padded_conv2d import (\n",
        "    PaddedConv2D,\n",
        ")\n",
        "from keras_cv.models.stable_diffusion.__internal__.layers.resnet_block import (\n",
        "    ResnetBlock,\n",
        ")\n",
        "\n",
        "\n",
        "class Decoder(keras.Sequential):\n",
        "    \"\"\" gets the latent space as in input and generates the final output image from it\"\"\"\n",
        "    def __init__(self, img_height, img_width, name=None, download_weights=True):\n",
        "        super().__init__(\n",
        "            [\n",
        "                keras.layers.Input((img_height // 8, img_width // 8, 4)),\n",
        "                keras.layers.Rescaling(1.0 / 0.18215),\n",
        "                PaddedConv2D(4, 1),\n",
        "                PaddedConv2D(512, 3, padding=1),\n",
        "                ResnetBlock(512),\n",
        "                AttentionBlock(512),\n",
        "                ResnetBlock(512),\n",
        "                ResnetBlock(512),\n",
        "                ResnetBlock(512),\n",
        "                ResnetBlock(512),\n",
        "                keras.layers.UpSampling2D(2),\n",
        "                PaddedConv2D(512, 3, padding=1),\n",
        "                ResnetBlock(512),\n",
        "                ResnetBlock(512),\n",
        "                ResnetBlock(512),\n",
        "                keras.layers.UpSampling2D(2),\n",
        "                PaddedConv2D(512, 3, padding=1),\n",
        "                ResnetBlock(256),\n",
        "                ResnetBlock(256),\n",
        "                ResnetBlock(256),\n",
        "                keras.layers.UpSampling2D(2),\n",
        "                PaddedConv2D(256, 3, padding=1),\n",
        "                ResnetBlock(128),\n",
        "                ResnetBlock(128),\n",
        "                ResnetBlock(128),\n",
        "                keras.layers.GroupNormalization(epsilon=1e-5),\n",
        "                keras.layers.Activation(\"swish\"),\n",
        "                PaddedConv2D(3, 3, padding=1),\n",
        "            ],\n",
        "            name=name,\n",
        "        )\n",
        "\n",
        "        if download_weights:\n",
        "            decoder_weights_fpath = keras.utils.get_file(\n",
        "                origin=\"https://huggingface.co/fchollet/stable-diffusion/resolve/main/kcv_decoder.h5\",\n",
        "                file_hash=\"ad350a65cc8bc4a80c8103367e039a3329b4231c2469a1093869a345f55b1962\",\n",
        "            )\n",
        "            self.load_weights(decoder_weights_fpath)"
      ]
    }
  ],
  "metadata": {
    "colab": {
      "include_colab_link": true,
      "provenance": []
    },
    "kernelspec": {
      "display_name": "Python 3",
      "language": "python",
      "name": "python3"
    },
    "language_info": {
      "name": "python",
      "version": "3.9.13 (tags/v3.9.13:6de2ca5, May 17 2022, 16:36:42) [MSC v.1929 64 bit (AMD64)]"
    },
    "vscode": {
      "interpreter": {
        "hash": "af2f6cfcb39bf8ab38411bd435cedb555de475cc798b965db2ecf0ea7ba2a5e2"
      }
    }
  },
  "nbformat": 4,
  "nbformat_minor": 0
}
