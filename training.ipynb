{
  "nbformat": 4,
  "nbformat_minor": 0,
  "metadata": {
    "colab": {
      "provenance": [],
      "include_colab_link": true
    },
    "kernelspec": {
      "name": "python3",
      "display_name": "Python 3"
    },
    "language_info": {
      "name": "python"
    }
  },
  "cells": [
    {
      "cell_type": "markdown",
      "metadata": {
        "id": "view-in-github",
        "colab_type": "text"
      },
      "source": [
        "<a href=\"https://colab.research.google.com/github/tensorflow-project/FineTuning/blob/main/training.ipynb\" target=\"_parent\"><img src=\"https://colab.research.google.com/assets/colab-badge.svg\" alt=\"Open In Colab\"/></a>"
      ]
    },
    {
      "cell_type": "code",
      "source": [
        "!git clone https://github.com/tensorflow-project/FineTuning\n",
        "#%cd FineTuning"
      ],
      "metadata": {
        "colab": {
          "base_uri": "https://localhost:8080/"
        },
        "id": "NHvXPnQkeyzf",
        "outputId": "8d13af53-a879-4381-9d03-889101823149"
      },
      "execution_count": null,
      "outputs": [
        {
          "output_type": "stream",
          "name": "stdout",
          "text": [
            "Cloning into 'FineTuning'...\n",
            "remote: Enumerating objects: 424, done.\u001b[K\n",
            "remote: Counting objects: 100% (60/60), done.\u001b[K\n",
            "remote: Compressing objects: 100% (53/53), done.\u001b[K\n",
            "remote: Total 424 (delta 37), reused 3 (delta 3), pack-reused 364\u001b[K\n",
            "Receiving objects: 100% (424/424), 93.42 MiB | 14.00 MiB/s, done.\n",
            "Resolving deltas: 100% (303/303), done.\n"
          ]
        }
      ]
    },
    {
      "cell_type": "code",
      "source": [
        "import sys\n",
        "import os\n",
        "from numpy import dot\n",
        "from numpy.linalg import norm\n",
        "from google.colab import drive\n",
        "#from PIL import Image\n",
        "\n",
        "py_file_location = \"/content/FineTuning\"\n",
        "sys.path.append(os.path.abspath(py_file_location))\n",
        "py_file_location = \"/content/FineTuning/models\"\n",
        "sys.path.append(os.path.abspath(py_file_location))\n",
        "\n",
        "import textual_inversion as txt"
      ],
      "metadata": {
        "id": "SD_KkNtNSth_"
      },
      "execution_count": null,
      "outputs": []
    },
    {
      "cell_type": "code",
      "source": [
        "sticker_embedding = []\n",
        "cosine_similarity = []\n",
        "broccoli = txt.get_embedding(\"broccoli\")\n",
        "cosine_similarity.append(txt.cosine_sim(broccoli, txt.get_embedding(txt.placeholder_token)))"
      ],
      "metadata": {
        "id": "6u0L8TKvdd_7"
      },
      "execution_count": null,
      "outputs": []
    },
    {
      "cell_type": "code",
      "source": [
        "epochs = 5\n",
        "epoch_num = list(range(epochs+1))\n",
        "txt.training(epoch=epochs, model=txt.stable_diffusion, data= txt.train_ds)"
      ],
      "metadata": {
        "id": "LD07AvQddezX"
      },
      "execution_count": null,
      "outputs": []
    },
    {
      "cell_type": "code",
      "source": [
        "plt.plot(epoch_num, cosine_similarity)\n",
        "plt.xlabel(\"Number of Epochs\")\n",
        "plt.ylabel(\"Cosine Similarity\")\n",
        "plt.title(\"Cosine Similarity between the basis and the new concept\")\n",
        "plt.show()"
      ],
      "metadata": {
        "id": "M-DGSxVjd1xx"
      },
      "execution_count": null,
      "outputs": []
    },
    {
      "cell_type": "code",
      "source": [
        "txt.cosine_plot(epoch_num, cosine_similarity)"
      ],
      "metadata": {
        "id": "yMTZB6h834iU"
      },
      "execution_count": null,
      "outputs": []
    },
    {
      "cell_type": "code",
      "source": [
        "drive.mount(\"/content/drive\")\n",
        "path = '/content/drive/MyDrive/angryweeeights.npy'"
      ],
      "metadata": {
        "id": "ZnDt4BHJd40N"
      },
      "execution_count": null,
      "outputs": []
    },
    {
      "cell_type": "code",
      "source": [
        "###get the weights of the text encoder and save the to google drive\n",
        "text_encoder_weights = np.array(stable_diffusion.text_encoder.get_weights())\n",
        "\n",
        "### Save the weights array to a file on your Google Drive\n",
        "np.save(path, text_encoder_weights)"
      ],
      "metadata": {
        "id": "1wBN4HdceChs"
      },
      "execution_count": null,
      "outputs": []
    }
  ]
}