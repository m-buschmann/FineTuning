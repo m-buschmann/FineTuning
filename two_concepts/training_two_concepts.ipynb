{
  "nbformat": 4,
  "nbformat_minor": 0,
  "metadata": {
    "colab": {
      "provenance": [],
      "include_colab_link": true
    },
    "kernelspec": {
      "name": "python3",
      "display_name": "Python 3"
    },
    "language_info": {
      "name": "python"
    },
    "accelerator": "GPU",
    "gpuClass": "standard"
  },
  "cells": [
    {
      "cell_type": "markdown",
      "metadata": {
        "id": "view-in-github",
        "colab_type": "text"
      },
      "source": [
        "<a href=\"https://colab.research.google.com/github/tensorflow-project/FineTuning/blob/main/two_concepts/training_two_concepts.ipynb\" target=\"_parent\"><img src=\"https://colab.research.google.com/assets/colab-badge.svg\" alt=\"Open In Colab\"/></a>"
      ]
    },
    {
      "cell_type": "code",
      "source": [
        "!git clone https://github.com/tensorflow-project/FineTuning"
      ],
      "metadata": {
        "colab": {
          "base_uri": "https://localhost:8080/"
        },
        "id": "LBGcW8Cv9eyo",
        "outputId": "ff34ed15-4d36-40b6-9af3-9156b3716b59"
      },
      "execution_count": 1,
      "outputs": [
        {
          "output_type": "stream",
          "name": "stdout",
          "text": [
            "Cloning into 'FineTuning'...\n",
            "remote: Enumerating objects: 1488, done.\u001b[K\n",
            "remote: Counting objects: 100% (451/451), done.\u001b[K\n",
            "remote: Compressing objects: 100% (200/200), done.\u001b[K\n",
            "remote: Total 1488 (delta 328), reused 352 (delta 247), pack-reused 1037\u001b[K\n",
            "Receiving objects: 100% (1488/1488), 92.57 MiB | 17.70 MiB/s, done.\n",
            "Resolving deltas: 100% (1047/1047), done.\n"
          ]
        }
      ]
    },
    {
      "cell_type": "code",
      "source": [
        "import sys\n",
        "import os\n",
        "import numpy as np\n",
        "from google.colab import drive\n",
        "import keras\n",
        "import tensorflow as tf\n",
        "\n",
        "### agree to mounting your Google Drive\n",
        "drive.mount(\"/content/drive\")\n",
        "\n",
        "py_file_location = \"/content/FineTuning/two_concepts\"\n",
        "sys.path.append(os.path.abspath(py_file_location))\n",
        "py_file_location = \"/content/FineTuning/models\"\n",
        "sys.path.append(os.path.abspath(py_file_location))\n",
        "\n",
        "import textual_inversion_two_concepts as txt"
      ],
      "metadata": {
        "colab": {
          "base_uri": "https://localhost:8080/"
        },
        "id": "mfbd_Eat9rig",
        "outputId": "64219087-ce4b-4591-f1fa-7ebb76e0b0a2"
      },
      "execution_count": 2,
      "outputs": [
        {
          "output_type": "stream",
          "name": "stdout",
          "text": [
            "Mounted at /content/drive\n",
            "  Installing build dependencies ... \u001b[?25l\u001b[?25hdone\n",
            "  Getting requirements to build wheel ... \u001b[?25l\u001b[?25hdone\n",
            "  Preparing metadata (pyproject.toml) ... \u001b[?25l\u001b[?25hdone\n",
            "  Building wheel for keras-cv (pyproject.toml) ... \u001b[?25l\u001b[?25hdone\n",
            "Looking in indexes: https://pypi.org/simple, https://us-python.pkg.dev/colab-wheels/public/simple/\n",
            "Requirement already satisfied: pyyaml in /usr/local/lib/python3.9/dist-packages (6.0)\n",
            "Requirement already satisfied: h5py in /usr/local/lib/python3.9/dist-packages (3.8.0)\n",
            "Requirement already satisfied: numpy>=1.14.5 in /usr/local/lib/python3.9/dist-packages (from h5py) (1.22.4)\n"
          ]
        }
      ]
    },
    {
      "cell_type": "code",
      "source": [
        "### create an instance of the Stable Diffusion model\n",
        "stable_diffusion = txt.StableDiffusion()\n",
        "\n",
        "### our new concept which is later inserted in the different prompts (for training and image generation)\n",
        "placeholder_token_broccoli = \"<my-broccoli-token>\"\n",
        "placeholder_token_emoji = \"<my-emoji-token>\"\n",
        "placeholder_token_combined = \"<my-broccoli-emoji-token>\"\n",
        "\n",
        "### create a dataset consisting of broccoli stickers prompts\n",
        "broccoli_ds = txt.assemble_dataset(\n",
        "    urls = [\n",
        "        \"https://i.imgur.com/9zAwPyt.jpg\",\n",
        "        \"https://i.imgur.com/qCNFRl4.jpg\",\n",
        "        \"https://i.imgur.com/kPH9XIh.jpg\",\n",
        "        \"https://i.imgur.com/qy1k0QK.jpg\",\n",
        "    ],\n",
        "    prompts = [\n",
        "        \"a photo of a happy {}\",\n",
        "        \"a photo of {}\",\n",
        "        \"a photo of one {}\",\n",
        "        \"a photo of a nice {}\",\n",
        "        \"a good photo of a {}\",\n",
        "        \"a photo of the nice {}\",\n",
        "        \"a photo of a cool {}\",\n",
        "        \"a rendition of the {}\",\n",
        "        \"a nice sticker of a {}\",\n",
        "        \"a sticker of a {}\",\n",
        "        \"a sticker of a happy {}\",\n",
        "        \"a sticker of a lucky {}\",\n",
        "        \"a sticker of a lovely {}\",\n",
        "        \"a sticker of a {} in a positive mood\",\n",
        "        \"a pixar chracter of a satisfied {}\",\n",
        "        \"a disney character of a positive {}\",\n",
        "        \"a sticker of a delighted {}\",\n",
        "        \"a sticker of a joyful {}\",\n",
        "        \"a sticker of a cheerful {}\",\n",
        "        \"a drawing of a glad {}\",\n",
        "        \"a sticker of a merry {}\",\n",
        "        \"a sticker of a pleased {}\",\n",
        "    ],\n",
        "    placeholder_token = placeholder_token_broccoli, \n",
        "    stable_diffusion = stable_diffusion\n",
        ")  \n",
        "\n",
        "### create a dataset consisting of happy emojis and happy prompts\n",
        "emoji_ds = txt.assemble_dataset(\n",
        "    urls = [\n",
        "        \"https://i.imgur.com/BLLMggR.png\",\n",
        "        \"https://i.imgur.com/PPQ2UtM.png\",\n",
        "        \"https://i.imgur.com/6je73G3.png\",\n",
        "    ],\n",
        "    prompts = [\n",
        "        \"a photo of a happy {}\",\n",
        "        \"a photo of {}\",\n",
        "        \"a photo of one {}\",\n",
        "        \"a photo of a nice {}\",\n",
        "        \"a good photo of a {}\",\n",
        "        \"a photo of the nice {}\",\n",
        "        \"a photo of a cool {}\",\n",
        "        \"a rendition of the {}\",\n",
        "        \"a nice emoji of a {}\",\n",
        "        \"an emoji of a {}\",\n",
        "        \"an emoji of a happy {}\",\n",
        "        \"an emoji of a lucky {}\",\n",
        "        \"an emoji of a lovely {}\",\n",
        "        \"an emoji of a {} in a positive mood\",\n",
        "        \"an emoji chracter of a satisfied {}\",\n",
        "        \"an emoji character of a positive {}\",\n",
        "        \"an emoji of a delighted {}\",\n",
        "        \"an emoji of a joyful {}\",\n",
        "        \"an emoji of a cheerful {}\",\n",
        "        \"an emoji of a glad {}\",\n",
        "        \"an emoji of a merry {}\",\n",
        "        \"an emoji of a pleased {}\",\n",
        "    ],\n",
        "    placeholder_token = placeholder_token_emoji,\n",
        "    stable_diffusion = stable_diffusion\n",
        ")\n",
        "\n",
        "### concatenate the different datasets\n",
        "train_ds = emoji_ds.concatenate(broccoli_ds)\n",
        "train_ds = train_ds.batch(1).shuffle(\n",
        "    train_ds.cardinality(), reshuffle_each_iteration=True)\n",
        "\n",
        "txt.textual_preprocessing(stable_diffusion, placeholder_token_broccoli, placeholder_token_emoji, placeholder_token_combined)\n",
        "\n",
        "### put all the different components of stable diffusion model into a list\n",
        "\"\"\"all_models = [\n",
        "    stable_diffusion.text_encoder,\n",
        "    stable_diffusion.diffusion_model,\n",
        "    stable_diffusion.decoder,\n",
        "]\"\"\"\n",
        "\n",
        "\n",
        "\n",
        "### beta is the diffusion rate\n",
        "noise_scheduler = txt.NoiseScheduler(\n",
        "    ### beta_start determines the amount of noise added at the start of the denoising process\n",
        "    beta_start=0.00085,\n",
        "    ### beta_end at the end of the denoising process\n",
        "    beta_end=0.012,\n",
        "    ### the beta_schedule determines that the diffusion rate increases linearly\n",
        "    beta_schedule=\"scaled_linear\",\n",
        "    train_timesteps=1000,\n",
        ")\n",
        "\n",
        "### Initialize the model we use to fine tune our concept\n",
        "trainer = txt.StableDiffusionFineTuner(stable_diffusion, noise_scheduler, name=\"trainer\")\n",
        "#t = txt.StableDiffusionFineTuner(stable_diffusion, noise_scheduler, name=\"t\")\n",
        "\n",
        "\n",
        "#EPOCHS = 50\n",
        "### learning rate decays depending on the number of epochs to avoid convergence issues in few epochs \n",
        "### in the originial tutorial a scheduler is used but we experienced to have better results without a scheduler\n",
        "\"\"\"learning_rate = keras.optimizers.schedules.CosineDecay(\n",
        "    initial_learning_rate=1e-4, decay_steps=train_ds.cardinality() * EPOCHS\n",
        ")\"\"\"\n",
        "### inizialize the optimizer\n",
        "optimizer = tf.keras.optimizers.Adam(\n",
        "    weight_decay=0.004, learning_rate=1e-4, epsilon=1e-8, global_clipnorm=10\n",
        ")\n",
        "\n",
        "trainer.compile(\n",
        "    optimizer=optimizer,\n",
        "    # We are performing reduction manually in our train step, so none is required here.\n",
        "    loss=keras.losses.MeanSquaredError(reduction=\"none\"),\n",
        ")  "
      ],
      "metadata": {
        "id": "LcpXhF1frApe",
        "outputId": "4f3c0b0f-eb19-4297-be88-204f8a7f574a",
        "colab": {
          "base_uri": "https://localhost:8080/"
        }
      },
      "execution_count": 3,
      "outputs": [
        {
          "output_type": "stream",
          "name": "stdout",
          "text": [
            "By using this model checkpoint, you acknowledge that its usage is subject to the terms of the CreativeML Open RAIL-M license at https://raw.githubusercontent.com/CompVis/stable-diffusion/main/LICENSE\n",
            "Downloading data from https://i.imgur.com/9zAwPyt.jpg\n",
            "8784/8784 [==============================] - 0s 0us/step\n",
            "Downloading data from https://i.imgur.com/qCNFRl4.jpg\n",
            "14548/14548 [==============================] - 0s 1us/step\n",
            "Downloading data from https://i.imgur.com/kPH9XIh.jpg\n",
            "14897/14897 [==============================] - 0s 1us/step\n",
            "Downloading data from https://i.imgur.com/qy1k0QK.jpg\n",
            "13911/13911 [==============================] - 0s 1us/step\n"
          ]
        },
        {
          "output_type": "stream",
          "name": "stderr",
          "text": [
            "WARNING:tensorflow:From /usr/local/lib/python3.9/dist-packages/tensorflow/python/autograph/pyct/static_analysis/liveness.py:83: Analyzer.lamba_check (from tensorflow.python.autograph.pyct.static_analysis.liveness) is deprecated and will be removed after 2023-09-23.\n",
            "Instructions for updating:\n",
            "Lambda fuctions will be no more assumed to be used in the statement where they are used, or at least in the same block. https://github.com/tensorflow/tensorflow/issues/56089\n"
          ]
        },
        {
          "output_type": "stream",
          "name": "stdout",
          "text": [
            "Downloading data from https://github.com/openai/CLIP/blob/main/clip/bpe_simple_vocab_16e6.txt.gz?raw=true\n",
            "1356917/1356917 [==============================] - 0s 0us/step\n",
            "Downloading data from https://i.imgur.com/BLLMggR.png\n",
            "17615/17615 [==============================] - 0s 1us/step\n",
            "Downloading data from https://i.imgur.com/PPQ2UtM.png\n",
            "15761/15761 [==============================] - 0s 1us/step\n",
            "Downloading data from https://i.imgur.com/6je73G3.png\n",
            "13071/13071 [==============================] - 0s 0us/step\n",
            "Downloading data from https://huggingface.co/fchollet/stable-diffusion/resolve/main/kcv_encoder.h5\n",
            "492466864/492466864 [==============================] - 3s 0us/step\n",
            "Downloading data from https://huggingface.co/fchollet/stable-diffusion/resolve/main/kcv_diffusion_model.h5\n",
            "3439090152/3439090152 [==============================] - 42s 0us/step\n",
            "Downloading data from https://huggingface.co/fchollet/stable-diffusion/resolve/main/kcv_decoder.h5\n",
            "198180272/198180272 [==============================] - 1s 0us/step\n",
            "Downloading data from https://huggingface.co/fchollet/stable-diffusion/resolve/main/vae_encoder.h5\n",
            "136824240/136824240 [==============================] - 1s 0us/step\n"
          ]
        }
      ]
    },
    {
      "cell_type": "code",
      "source": [
        "### EXECUTE THE FOLLOWING TWO BLOCKS ONLY IF YOU WANT TO CONTINUE TRAINING WITH SAVED WEIGTHS\n",
        "### choose where to load the weights from, either from your google drive or you load our pretrained weights\n",
        "### make sure to insert the exact name of your weight.npy\n",
        "path = '/content/drive/MyDrive/1weights_with_two_concepts.npy'"
      ],
      "metadata": {
        "id": "V-KgTaUHF81m"
      },
      "execution_count": 4,
      "outputs": []
    },
    {
      "cell_type": "code",
      "source": [
        "###load the array of the weights of the text encoder from the training\n",
        "text_encoder_weights = np.load(path, allow_pickle=True)\n",
        "\n",
        "### Set the weights of the text encoderstable_diffusion.text_encoder.set_weights(text_encoder_weights)\n"
      ],
      "metadata": {
        "id": "neUOdaijF-rl"
      },
      "execution_count": null,
      "outputs": []
    },
    {
      "cell_type": "code",
      "source": [
        "### training\n",
        "trainer.fit(\n",
        "    train_ds,\n",
        "    epochs=1,\n",
        ")"
      ],
      "metadata": {
        "id": "XZVA19oKT2yB",
        "outputId": "d4e2c838-2e3f-4359-c5fc-4d60b40d7861",
        "colab": {
          "base_uri": "https://localhost:8080/"
        }
      },
      "execution_count": 5,
      "outputs": [
        {
          "output_type": "stream",
          "name": "stdout",
          "text": [
            "220/220 [==============================] - 437s 2s/step - loss: 0.0591\n"
          ]
        },
        {
          "output_type": "execute_result",
          "data": {
            "text/plain": [
              "<keras.callbacks.History at 0x7f102de6a850>"
            ]
          },
          "metadata": {},
          "execution_count": 5
        }
      ]
    },
    {
      "cell_type": "code",
      "source": [
        "### choose where to save your newly generated weights\n",
        "path = '/content/drive/MyDrive/weight_with_two_concepts.npy'"
      ],
      "metadata": {
        "id": "CDw8MPwiHDrU"
      },
      "execution_count": 6,
      "outputs": []
    },
    {
      "cell_type": "code",
      "source": [
        "###get the weights of the text encoder and save the to Google Drive\n",
        "text_encoder_weights = np.array(stable_diffusion.text_encoder.get_weights(), dtype=object)\n",
        "\n",
        "### Save the weights array to a file on your Google Drive\n",
        "np.save(path, text_encoder_weights)"
      ],
      "metadata": {
        "id": "DksSkPKsHN0T"
      },
      "execution_count": 8,
      "outputs": []
    }
  ]
}